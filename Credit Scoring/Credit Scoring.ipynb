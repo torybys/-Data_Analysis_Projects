{
 "cells": [
  {
   "cell_type": "markdown",
   "id": "386f2ae7",
   "metadata": {
    "deletable": false,
    "editable": false,
    "id": "386f2ae7"
   },
   "source": [
    "# Исследование надежности заемщиков\n"
   ]
  },
  {
   "cell_type": "markdown",
   "id": "26613308",
   "metadata": {
    "deletable": false,
    "editable": false,
    "id": "26613308"
   },
   "source": [
    "## Откройте таблицу и изучите общую информацию о данных"
   ]
  },
  {
   "cell_type": "markdown",
   "id": "3c9f838e",
   "metadata": {
    "deletable": false,
    "editable": false,
    "id": "3c9f838e"
   },
   "source": [
    "**Задание 1. Импортируйте библиотеку pandas. Считайте данные из csv-файла в датафрейм и сохраните в переменную `data`. Путь к файлу:**\n",
    "\n",
    "`/datasets/data.csv`"
   ]
  },
  {
   "cell_type": "code",
   "execution_count": 1,
   "id": "77a68a90",
   "metadata": {
    "deletable": false,
    "id": "77a68a90"
   },
   "outputs": [],
   "source": [
    "import pandas as pd\n",
    "\n",
    "try:\n",
    "    data = pd.read_csv('/datasets/data.csv')\n",
    "except:\n",
    "    data = pd.read_csv('https://code.s3.yandex.net/datasets/data.csv')"
   ]
  },
  {
   "cell_type": "markdown",
   "id": "45365635",
   "metadata": {
    "deletable": false,
    "editable": false,
    "id": "45365635"
   },
   "source": [
    "**Задание 2. Выведите первые 20 строчек датафрейма `data` на экран.**"
   ]
  },
  {
   "cell_type": "code",
   "execution_count": 2,
   "id": "b0451a9a",
   "metadata": {
    "deletable": false,
    "id": "b0451a9a",
    "outputId": "1a8f3ef2-d323-4ec2-ddf7-89670b5944c4"
   },
   "outputs": [
    {
     "data": {
      "text/html": [
       "<div>\n",
       "<style scoped>\n",
       "    .dataframe tbody tr th:only-of-type {\n",
       "        vertical-align: middle;\n",
       "    }\n",
       "\n",
       "    .dataframe tbody tr th {\n",
       "        vertical-align: top;\n",
       "    }\n",
       "\n",
       "    .dataframe thead th {\n",
       "        text-align: right;\n",
       "    }\n",
       "</style>\n",
       "<table border=\"1\" class=\"dataframe\">\n",
       "  <thead>\n",
       "    <tr style=\"text-align: right;\">\n",
       "      <th></th>\n",
       "      <th>children</th>\n",
       "      <th>days_employed</th>\n",
       "      <th>dob_years</th>\n",
       "      <th>education</th>\n",
       "      <th>education_id</th>\n",
       "      <th>family_status</th>\n",
       "      <th>family_status_id</th>\n",
       "      <th>gender</th>\n",
       "      <th>income_type</th>\n",
       "      <th>debt</th>\n",
       "      <th>total_income</th>\n",
       "      <th>purpose</th>\n",
       "    </tr>\n",
       "  </thead>\n",
       "  <tbody>\n",
       "    <tr>\n",
       "      <th>0</th>\n",
       "      <td>1</td>\n",
       "      <td>-8437.673028</td>\n",
       "      <td>42</td>\n",
       "      <td>высшее</td>\n",
       "      <td>0</td>\n",
       "      <td>женат / замужем</td>\n",
       "      <td>0</td>\n",
       "      <td>F</td>\n",
       "      <td>сотрудник</td>\n",
       "      <td>0</td>\n",
       "      <td>253875.639453</td>\n",
       "      <td>покупка жилья</td>\n",
       "    </tr>\n",
       "    <tr>\n",
       "      <th>1</th>\n",
       "      <td>1</td>\n",
       "      <td>-4024.803754</td>\n",
       "      <td>36</td>\n",
       "      <td>среднее</td>\n",
       "      <td>1</td>\n",
       "      <td>женат / замужем</td>\n",
       "      <td>0</td>\n",
       "      <td>F</td>\n",
       "      <td>сотрудник</td>\n",
       "      <td>0</td>\n",
       "      <td>112080.014102</td>\n",
       "      <td>приобретение автомобиля</td>\n",
       "    </tr>\n",
       "    <tr>\n",
       "      <th>2</th>\n",
       "      <td>0</td>\n",
       "      <td>-5623.422610</td>\n",
       "      <td>33</td>\n",
       "      <td>Среднее</td>\n",
       "      <td>1</td>\n",
       "      <td>женат / замужем</td>\n",
       "      <td>0</td>\n",
       "      <td>M</td>\n",
       "      <td>сотрудник</td>\n",
       "      <td>0</td>\n",
       "      <td>145885.952297</td>\n",
       "      <td>покупка жилья</td>\n",
       "    </tr>\n",
       "    <tr>\n",
       "      <th>3</th>\n",
       "      <td>3</td>\n",
       "      <td>-4124.747207</td>\n",
       "      <td>32</td>\n",
       "      <td>среднее</td>\n",
       "      <td>1</td>\n",
       "      <td>женат / замужем</td>\n",
       "      <td>0</td>\n",
       "      <td>M</td>\n",
       "      <td>сотрудник</td>\n",
       "      <td>0</td>\n",
       "      <td>267628.550329</td>\n",
       "      <td>дополнительное образование</td>\n",
       "    </tr>\n",
       "    <tr>\n",
       "      <th>4</th>\n",
       "      <td>0</td>\n",
       "      <td>340266.072047</td>\n",
       "      <td>53</td>\n",
       "      <td>среднее</td>\n",
       "      <td>1</td>\n",
       "      <td>гражданский брак</td>\n",
       "      <td>1</td>\n",
       "      <td>F</td>\n",
       "      <td>пенсионер</td>\n",
       "      <td>0</td>\n",
       "      <td>158616.077870</td>\n",
       "      <td>сыграть свадьбу</td>\n",
       "    </tr>\n",
       "    <tr>\n",
       "      <th>5</th>\n",
       "      <td>0</td>\n",
       "      <td>-926.185831</td>\n",
       "      <td>27</td>\n",
       "      <td>высшее</td>\n",
       "      <td>0</td>\n",
       "      <td>гражданский брак</td>\n",
       "      <td>1</td>\n",
       "      <td>M</td>\n",
       "      <td>компаньон</td>\n",
       "      <td>0</td>\n",
       "      <td>255763.565419</td>\n",
       "      <td>покупка жилья</td>\n",
       "    </tr>\n",
       "    <tr>\n",
       "      <th>6</th>\n",
       "      <td>0</td>\n",
       "      <td>-2879.202052</td>\n",
       "      <td>43</td>\n",
       "      <td>высшее</td>\n",
       "      <td>0</td>\n",
       "      <td>женат / замужем</td>\n",
       "      <td>0</td>\n",
       "      <td>F</td>\n",
       "      <td>компаньон</td>\n",
       "      <td>0</td>\n",
       "      <td>240525.971920</td>\n",
       "      <td>операции с жильем</td>\n",
       "    </tr>\n",
       "    <tr>\n",
       "      <th>7</th>\n",
       "      <td>0</td>\n",
       "      <td>-152.779569</td>\n",
       "      <td>50</td>\n",
       "      <td>СРЕДНЕЕ</td>\n",
       "      <td>1</td>\n",
       "      <td>женат / замужем</td>\n",
       "      <td>0</td>\n",
       "      <td>M</td>\n",
       "      <td>сотрудник</td>\n",
       "      <td>0</td>\n",
       "      <td>135823.934197</td>\n",
       "      <td>образование</td>\n",
       "    </tr>\n",
       "    <tr>\n",
       "      <th>8</th>\n",
       "      <td>2</td>\n",
       "      <td>-6929.865299</td>\n",
       "      <td>35</td>\n",
       "      <td>ВЫСШЕЕ</td>\n",
       "      <td>0</td>\n",
       "      <td>гражданский брак</td>\n",
       "      <td>1</td>\n",
       "      <td>F</td>\n",
       "      <td>сотрудник</td>\n",
       "      <td>0</td>\n",
       "      <td>95856.832424</td>\n",
       "      <td>на проведение свадьбы</td>\n",
       "    </tr>\n",
       "    <tr>\n",
       "      <th>9</th>\n",
       "      <td>0</td>\n",
       "      <td>-2188.756445</td>\n",
       "      <td>41</td>\n",
       "      <td>среднее</td>\n",
       "      <td>1</td>\n",
       "      <td>женат / замужем</td>\n",
       "      <td>0</td>\n",
       "      <td>M</td>\n",
       "      <td>сотрудник</td>\n",
       "      <td>0</td>\n",
       "      <td>144425.938277</td>\n",
       "      <td>покупка жилья для семьи</td>\n",
       "    </tr>\n",
       "    <tr>\n",
       "      <th>10</th>\n",
       "      <td>2</td>\n",
       "      <td>-4171.483647</td>\n",
       "      <td>36</td>\n",
       "      <td>высшее</td>\n",
       "      <td>0</td>\n",
       "      <td>женат / замужем</td>\n",
       "      <td>0</td>\n",
       "      <td>M</td>\n",
       "      <td>компаньон</td>\n",
       "      <td>0</td>\n",
       "      <td>113943.491460</td>\n",
       "      <td>покупка недвижимости</td>\n",
       "    </tr>\n",
       "    <tr>\n",
       "      <th>11</th>\n",
       "      <td>0</td>\n",
       "      <td>-792.701887</td>\n",
       "      <td>40</td>\n",
       "      <td>среднее</td>\n",
       "      <td>1</td>\n",
       "      <td>женат / замужем</td>\n",
       "      <td>0</td>\n",
       "      <td>F</td>\n",
       "      <td>сотрудник</td>\n",
       "      <td>0</td>\n",
       "      <td>77069.234271</td>\n",
       "      <td>покупка коммерческой недвижимости</td>\n",
       "    </tr>\n",
       "    <tr>\n",
       "      <th>12</th>\n",
       "      <td>0</td>\n",
       "      <td>NaN</td>\n",
       "      <td>65</td>\n",
       "      <td>среднее</td>\n",
       "      <td>1</td>\n",
       "      <td>гражданский брак</td>\n",
       "      <td>1</td>\n",
       "      <td>M</td>\n",
       "      <td>пенсионер</td>\n",
       "      <td>0</td>\n",
       "      <td>NaN</td>\n",
       "      <td>сыграть свадьбу</td>\n",
       "    </tr>\n",
       "    <tr>\n",
       "      <th>13</th>\n",
       "      <td>0</td>\n",
       "      <td>-1846.641941</td>\n",
       "      <td>54</td>\n",
       "      <td>неоконченное высшее</td>\n",
       "      <td>2</td>\n",
       "      <td>женат / замужем</td>\n",
       "      <td>0</td>\n",
       "      <td>F</td>\n",
       "      <td>сотрудник</td>\n",
       "      <td>0</td>\n",
       "      <td>130458.228857</td>\n",
       "      <td>приобретение автомобиля</td>\n",
       "    </tr>\n",
       "    <tr>\n",
       "      <th>14</th>\n",
       "      <td>0</td>\n",
       "      <td>-1844.956182</td>\n",
       "      <td>56</td>\n",
       "      <td>высшее</td>\n",
       "      <td>0</td>\n",
       "      <td>гражданский брак</td>\n",
       "      <td>1</td>\n",
       "      <td>F</td>\n",
       "      <td>компаньон</td>\n",
       "      <td>1</td>\n",
       "      <td>165127.911772</td>\n",
       "      <td>покупка жилой недвижимости</td>\n",
       "    </tr>\n",
       "    <tr>\n",
       "      <th>15</th>\n",
       "      <td>1</td>\n",
       "      <td>-972.364419</td>\n",
       "      <td>26</td>\n",
       "      <td>среднее</td>\n",
       "      <td>1</td>\n",
       "      <td>женат / замужем</td>\n",
       "      <td>0</td>\n",
       "      <td>F</td>\n",
       "      <td>сотрудник</td>\n",
       "      <td>0</td>\n",
       "      <td>116820.904450</td>\n",
       "      <td>строительство собственной недвижимости</td>\n",
       "    </tr>\n",
       "    <tr>\n",
       "      <th>16</th>\n",
       "      <td>0</td>\n",
       "      <td>-1719.934226</td>\n",
       "      <td>35</td>\n",
       "      <td>среднее</td>\n",
       "      <td>1</td>\n",
       "      <td>женат / замужем</td>\n",
       "      <td>0</td>\n",
       "      <td>F</td>\n",
       "      <td>сотрудник</td>\n",
       "      <td>0</td>\n",
       "      <td>289202.704229</td>\n",
       "      <td>недвижимость</td>\n",
       "    </tr>\n",
       "    <tr>\n",
       "      <th>17</th>\n",
       "      <td>0</td>\n",
       "      <td>-2369.999720</td>\n",
       "      <td>33</td>\n",
       "      <td>высшее</td>\n",
       "      <td>0</td>\n",
       "      <td>гражданский брак</td>\n",
       "      <td>1</td>\n",
       "      <td>M</td>\n",
       "      <td>сотрудник</td>\n",
       "      <td>0</td>\n",
       "      <td>90410.586745</td>\n",
       "      <td>строительство недвижимости</td>\n",
       "    </tr>\n",
       "    <tr>\n",
       "      <th>18</th>\n",
       "      <td>0</td>\n",
       "      <td>400281.136913</td>\n",
       "      <td>53</td>\n",
       "      <td>среднее</td>\n",
       "      <td>1</td>\n",
       "      <td>вдовец / вдова</td>\n",
       "      <td>2</td>\n",
       "      <td>F</td>\n",
       "      <td>пенсионер</td>\n",
       "      <td>0</td>\n",
       "      <td>56823.777243</td>\n",
       "      <td>на покупку подержанного автомобиля</td>\n",
       "    </tr>\n",
       "    <tr>\n",
       "      <th>19</th>\n",
       "      <td>0</td>\n",
       "      <td>-10038.818549</td>\n",
       "      <td>48</td>\n",
       "      <td>СРЕДНЕЕ</td>\n",
       "      <td>1</td>\n",
       "      <td>в разводе</td>\n",
       "      <td>3</td>\n",
       "      <td>F</td>\n",
       "      <td>сотрудник</td>\n",
       "      <td>0</td>\n",
       "      <td>242831.107982</td>\n",
       "      <td>на покупку своего автомобиля</td>\n",
       "    </tr>\n",
       "  </tbody>\n",
       "</table>\n",
       "</div>"
      ],
      "text/plain": [
       "    children  days_employed  dob_years            education  education_id  \\\n",
       "0          1   -8437.673028         42               высшее             0   \n",
       "1          1   -4024.803754         36              среднее             1   \n",
       "2          0   -5623.422610         33              Среднее             1   \n",
       "3          3   -4124.747207         32              среднее             1   \n",
       "4          0  340266.072047         53              среднее             1   \n",
       "5          0    -926.185831         27               высшее             0   \n",
       "6          0   -2879.202052         43               высшее             0   \n",
       "7          0    -152.779569         50              СРЕДНЕЕ             1   \n",
       "8          2   -6929.865299         35               ВЫСШЕЕ             0   \n",
       "9          0   -2188.756445         41              среднее             1   \n",
       "10         2   -4171.483647         36               высшее             0   \n",
       "11         0    -792.701887         40              среднее             1   \n",
       "12         0            NaN         65              среднее             1   \n",
       "13         0   -1846.641941         54  неоконченное высшее             2   \n",
       "14         0   -1844.956182         56               высшее             0   \n",
       "15         1    -972.364419         26              среднее             1   \n",
       "16         0   -1719.934226         35              среднее             1   \n",
       "17         0   -2369.999720         33               высшее             0   \n",
       "18         0  400281.136913         53              среднее             1   \n",
       "19         0  -10038.818549         48              СРЕДНЕЕ             1   \n",
       "\n",
       "       family_status  family_status_id gender income_type  debt  \\\n",
       "0    женат / замужем                 0      F   сотрудник     0   \n",
       "1    женат / замужем                 0      F   сотрудник     0   \n",
       "2    женат / замужем                 0      M   сотрудник     0   \n",
       "3    женат / замужем                 0      M   сотрудник     0   \n",
       "4   гражданский брак                 1      F   пенсионер     0   \n",
       "5   гражданский брак                 1      M   компаньон     0   \n",
       "6    женат / замужем                 0      F   компаньон     0   \n",
       "7    женат / замужем                 0      M   сотрудник     0   \n",
       "8   гражданский брак                 1      F   сотрудник     0   \n",
       "9    женат / замужем                 0      M   сотрудник     0   \n",
       "10   женат / замужем                 0      M   компаньон     0   \n",
       "11   женат / замужем                 0      F   сотрудник     0   \n",
       "12  гражданский брак                 1      M   пенсионер     0   \n",
       "13   женат / замужем                 0      F   сотрудник     0   \n",
       "14  гражданский брак                 1      F   компаньон     1   \n",
       "15   женат / замужем                 0      F   сотрудник     0   \n",
       "16   женат / замужем                 0      F   сотрудник     0   \n",
       "17  гражданский брак                 1      M   сотрудник     0   \n",
       "18    вдовец / вдова                 2      F   пенсионер     0   \n",
       "19         в разводе                 3      F   сотрудник     0   \n",
       "\n",
       "     total_income                                 purpose  \n",
       "0   253875.639453                           покупка жилья  \n",
       "1   112080.014102                 приобретение автомобиля  \n",
       "2   145885.952297                           покупка жилья  \n",
       "3   267628.550329              дополнительное образование  \n",
       "4   158616.077870                         сыграть свадьбу  \n",
       "5   255763.565419                           покупка жилья  \n",
       "6   240525.971920                       операции с жильем  \n",
       "7   135823.934197                             образование  \n",
       "8    95856.832424                   на проведение свадьбы  \n",
       "9   144425.938277                 покупка жилья для семьи  \n",
       "10  113943.491460                    покупка недвижимости  \n",
       "11   77069.234271       покупка коммерческой недвижимости  \n",
       "12            NaN                         сыграть свадьбу  \n",
       "13  130458.228857                 приобретение автомобиля  \n",
       "14  165127.911772              покупка жилой недвижимости  \n",
       "15  116820.904450  строительство собственной недвижимости  \n",
       "16  289202.704229                            недвижимость  \n",
       "17   90410.586745              строительство недвижимости  \n",
       "18   56823.777243      на покупку подержанного автомобиля  \n",
       "19  242831.107982            на покупку своего автомобиля  "
      ]
     },
     "execution_count": 2,
     "metadata": {},
     "output_type": "execute_result"
    }
   ],
   "source": [
    "data.head(20)"
   ]
  },
  {
   "cell_type": "markdown",
   "id": "0ed8f27f",
   "metadata": {
    "deletable": false,
    "editable": false,
    "id": "0ed8f27f"
   },
   "source": [
    "**Задание 3. Выведите основную информацию о датафрейме с помощью метода `info()`.**"
   ]
  },
  {
   "cell_type": "code",
   "execution_count": 3,
   "id": "ab3f863b",
   "metadata": {
    "deletable": false,
    "id": "ab3f863b",
    "outputId": "15376089-8dad-46c9-b520-c05248d43158"
   },
   "outputs": [
    {
     "name": "stdout",
     "output_type": "stream",
     "text": [
      "<class 'pandas.core.frame.DataFrame'>\n",
      "RangeIndex: 21525 entries, 0 to 21524\n",
      "Data columns (total 12 columns):\n",
      " #   Column            Non-Null Count  Dtype  \n",
      "---  ------            --------------  -----  \n",
      " 0   children          21525 non-null  int64  \n",
      " 1   days_employed     19351 non-null  float64\n",
      " 2   dob_years         21525 non-null  int64  \n",
      " 3   education         21525 non-null  object \n",
      " 4   education_id      21525 non-null  int64  \n",
      " 5   family_status     21525 non-null  object \n",
      " 6   family_status_id  21525 non-null  int64  \n",
      " 7   gender            21525 non-null  object \n",
      " 8   income_type       21525 non-null  object \n",
      " 9   debt              21525 non-null  int64  \n",
      " 10  total_income      19351 non-null  float64\n",
      " 11  purpose           21525 non-null  object \n",
      "dtypes: float64(2), int64(5), object(5)\n",
      "memory usage: 2.0+ MB\n"
     ]
    }
   ],
   "source": [
    "data.info()"
   ]
  },
  {
   "cell_type": "markdown",
   "id": "60e3e22d",
   "metadata": {
    "deletable": false,
    "editable": false,
    "id": "60e3e22d"
   },
   "source": [
    "## Предобработка данных"
   ]
  },
  {
   "cell_type": "markdown",
   "id": "03dc170c",
   "metadata": {
    "deletable": false,
    "editable": false,
    "id": "03dc170c"
   },
   "source": [
    "### Удаление пропусков"
   ]
  },
  {
   "cell_type": "markdown",
   "id": "a4f54eef",
   "metadata": {
    "deletable": false,
    "editable": false,
    "id": "a4f54eef"
   },
   "source": [
    "**Задание 4. Выведите количество пропущенных значений для каждого столбца. Используйте комбинацию двух методов.**"
   ]
  },
  {
   "cell_type": "code",
   "execution_count": 4,
   "id": "2dc372b2",
   "metadata": {
    "deletable": false,
    "id": "2dc372b2",
    "outputId": "81f4d817-781c-465c-ed15-91ce4446810d"
   },
   "outputs": [
    {
     "data": {
      "text/plain": [
       "children               0\n",
       "days_employed       2174\n",
       "dob_years              0\n",
       "education              0\n",
       "education_id           0\n",
       "family_status          0\n",
       "family_status_id       0\n",
       "gender                 0\n",
       "income_type            0\n",
       "debt                   0\n",
       "total_income        2174\n",
       "purpose                0\n",
       "dtype: int64"
      ]
     },
     "execution_count": 4,
     "metadata": {},
     "output_type": "execute_result"
    }
   ],
   "source": [
    "data.isna().sum()"
   ]
  },
  {
   "cell_type": "markdown",
   "id": "14f011b1",
   "metadata": {
    "deletable": false,
    "editable": false,
    "id": "14f011b1"
   },
   "source": [
    "**Задание 5. В двух столбцах есть пропущенные значения. Один из них — `days_employed`. Пропуски в этом столбце вы обработаете на следующем этапе. Другой столбец с пропущенными значениями — `total_income` — хранит данные о доходах. На сумму дохода сильнее всего влияет тип занятости, поэтому заполнить пропуски в этом столбце нужно медианным значением по каждому типу из столбца `income_type`. Например, у человека с типом занятости `сотрудник` пропуск в столбце `total_income` должен быть заполнен медианным доходом среди всех записей с тем же типом.**"
   ]
  },
  {
   "cell_type": "code",
   "execution_count": 5,
   "id": "bdabfb6e",
   "metadata": {
    "deletable": false,
    "id": "bdabfb6e"
   },
   "outputs": [],
   "source": [
    "for t in data['income_type'].unique():\n",
    "    data.loc[(data['income_type'] == t) & (data['total_income'].isna()), 'total_income'] = \\\n",
    "    data.loc[(data['income_type'] == t), 'total_income'].median()"
   ]
  },
  {
   "cell_type": "markdown",
   "id": "5be34059",
   "metadata": {
    "deletable": false,
    "editable": false,
    "id": "5be34059"
   },
   "source": [
    "### Обработка аномальных значений"
   ]
  },
  {
   "cell_type": "markdown",
   "id": "a87606cb",
   "metadata": {
    "deletable": false,
    "editable": false,
    "id": "a87606cb"
   },
   "source": [
    "**Задание 6. В данных могут встречаться артефакты (аномалии) — значения, которые не отражают действительность и появились по какой-то ошибке. таким артефактом будет отрицательное количество дней трудового стажа в столбце `days_employed`. Для реальных данных это нормально. Обработайте значения в этом столбце: замените все отрицательные значения положительными с помощью метода `abs()`.**"
   ]
  },
  {
   "cell_type": "code",
   "execution_count": 6,
   "id": "020c46cc",
   "metadata": {
    "deletable": false,
    "id": "020c46cc"
   },
   "outputs": [],
   "source": [
    "data['days_employed'] = data['days_employed'].abs()"
   ]
  },
  {
   "cell_type": "markdown",
   "id": "45538a3a",
   "metadata": {
    "deletable": false,
    "editable": false,
    "id": "45538a3a"
   },
   "source": [
    "**Задание 7. Для каждого типа занятости выведите медианное значение трудового стажа `days_employed` в днях.**"
   ]
  },
  {
   "cell_type": "code",
   "execution_count": 7,
   "id": "cd3e6328",
   "metadata": {
    "deletable": false,
    "id": "cd3e6328",
    "outputId": "801ef80e-522b-4668-f34e-565af7432bcf"
   },
   "outputs": [
    {
     "data": {
      "text/plain": [
       "income_type\n",
       "безработный        366413.652744\n",
       "в декрете            3296.759962\n",
       "госслужащий          2689.368353\n",
       "компаньон            1547.382223\n",
       "пенсионер          365213.306266\n",
       "предприниматель       520.848083\n",
       "сотрудник            1574.202821\n",
       "студент               578.751554\n",
       "Name: days_employed, dtype: float64"
      ]
     },
     "execution_count": 7,
     "metadata": {},
     "output_type": "execute_result"
    }
   ],
   "source": [
    "data.groupby('income_type')['days_employed'].agg('median')"
   ]
  },
  {
   "cell_type": "markdown",
   "id": "90c5f058",
   "metadata": {
    "deletable": false,
    "editable": false,
    "id": "90c5f058"
   },
   "source": [
    "У двух типов (безработные и пенсионеры) получатся аномально большие значения. Исправить такие значения сложно, поэтому оставьте их как есть."
   ]
  },
  {
   "cell_type": "markdown",
   "id": "9652e50d",
   "metadata": {
    "deletable": false,
    "editable": false,
    "id": "9652e50d"
   },
   "source": [
    "**Задание 8. Выведите перечень уникальных значений столбца `children`.**"
   ]
  },
  {
   "cell_type": "code",
   "execution_count": 8,
   "id": "dbb37b8e",
   "metadata": {
    "deletable": false,
    "id": "dbb37b8e",
    "outputId": "6975b15c-7f95-4697-d16d-a0c79b657b03"
   },
   "outputs": [
    {
     "data": {
      "text/plain": [
       "array([ 1,  0,  3,  2, -1,  4, 20,  5])"
      ]
     },
     "execution_count": 8,
     "metadata": {},
     "output_type": "execute_result"
    }
   ],
   "source": [
    "data['children'].unique()"
   ]
  },
  {
   "cell_type": "markdown",
   "id": "2b8b0715",
   "metadata": {
    "deletable": false,
    "editable": false,
    "id": "2b8b0715"
   },
   "source": [
    "**Задание 9. В столбце `children` есть два аномальных значения. Удалите строки, в которых встречаются такие аномальные значения из датафрейма `data`.**"
   ]
  },
  {
   "cell_type": "code",
   "execution_count": 9,
   "id": "20009df8",
   "metadata": {
    "deletable": false,
    "id": "20009df8"
   },
   "outputs": [],
   "source": [
    "data = data[(data['children'] != -1) & (data['children'] != 20)]"
   ]
  },
  {
   "cell_type": "markdown",
   "id": "8c6ac9f1",
   "metadata": {
    "deletable": false,
    "editable": false,
    "id": "8c6ac9f1"
   },
   "source": [
    "**Задание 10. Ещё раз выведите перечень уникальных значений столбца `children`, чтобы убедиться, что артефакты удалены.**"
   ]
  },
  {
   "cell_type": "code",
   "execution_count": 10,
   "id": "07337b81",
   "metadata": {
    "deletable": false,
    "id": "07337b81",
    "outputId": "b2097101-d49d-44d9-901b-32a65c9463d1"
   },
   "outputs": [
    {
     "data": {
      "text/plain": [
       "array([1, 0, 3, 2, 4, 5])"
      ]
     },
     "execution_count": 10,
     "metadata": {},
     "output_type": "execute_result"
    }
   ],
   "source": [
    "data['children'].unique()"
   ]
  },
  {
   "cell_type": "markdown",
   "id": "ee3f52d4",
   "metadata": {
    "deletable": false,
    "editable": false,
    "id": "ee3f52d4"
   },
   "source": [
    "### Удаление пропусков (продолжение)"
   ]
  },
  {
   "cell_type": "markdown",
   "id": "a700b0e4",
   "metadata": {
    "deletable": false,
    "editable": false,
    "id": "a700b0e4"
   },
   "source": [
    "**Задание 11. Заполните пропуски в столбце `days_employed` медианными значениями по каждого типа занятости `income_type`.**"
   ]
  },
  {
   "cell_type": "code",
   "execution_count": null,
   "id": "61946b83",
   "metadata": {
    "deletable": false,
    "id": "61946b83"
   },
   "outputs": [],
   "source": [
    "for t in data['income_type'].unique():\n",
    "    data.loc[(data['income_type'] == t) & (data['days_employed'].isna()), 'days_employed'] = \\\n",
    "    data.loc[(data['income_type'] == t), 'days_employed'].median()"
   ]
  },
  {
   "cell_type": "markdown",
   "id": "550dcd9b",
   "metadata": {
    "deletable": false,
    "editable": false,
    "id": "550dcd9b"
   },
   "source": [
    "**Задание 12. Убедитесь, что все пропуски заполнены. Проверьте себя и ещё раз выведите количество пропущенных значений для каждого столбца с помощью двух методов.**"
   ]
  },
  {
   "cell_type": "code",
   "execution_count": 12,
   "id": "937c7014",
   "metadata": {
    "deletable": false,
    "id": "937c7014",
    "outputId": "8da1e4e1-358e-4e87-98c9-f261bce0a7b2"
   },
   "outputs": [
    {
     "data": {
      "text/plain": [
       "children            0\n",
       "days_employed       0\n",
       "dob_years           0\n",
       "education           0\n",
       "education_id        0\n",
       "family_status       0\n",
       "family_status_id    0\n",
       "gender              0\n",
       "income_type         0\n",
       "debt                0\n",
       "total_income        0\n",
       "purpose             0\n",
       "dtype: int64"
      ]
     },
     "execution_count": 12,
     "metadata": {},
     "output_type": "execute_result"
    }
   ],
   "source": [
    "data.isna().sum()"
   ]
  },
  {
   "cell_type": "markdown",
   "id": "d522e295",
   "metadata": {
    "deletable": false,
    "editable": false,
    "id": "d522e295"
   },
   "source": [
    "### Изменение типов данных"
   ]
  },
  {
   "cell_type": "markdown",
   "id": "c229c581",
   "metadata": {
    "deletable": false,
    "editable": false,
    "id": "c229c581"
   },
   "source": [
    "**Задание 13. Замените вещественный тип данных в столбце `total_income` на целочисленный с помощью метода `astype()`.**"
   ]
  },
  {
   "cell_type": "code",
   "execution_count": 13,
   "id": "31036462",
   "metadata": {
    "deletable": false,
    "id": "31036462"
   },
   "outputs": [],
   "source": [
    "data['total_income'] = data['total_income'].astype(int)"
   ]
  },
  {
   "cell_type": "markdown",
   "id": "b8e3d1d9",
   "metadata": {
    "deletable": false,
    "editable": false,
    "id": "b8e3d1d9"
   },
   "source": [
    "### Обработка дубликатов"
   ]
  },
  {
   "cell_type": "markdown",
   "id": "9be53c49",
   "metadata": {
    "deletable": false,
    "editable": false,
    "id": "9be53c49"
   },
   "source": [
    "**Задание 14. Обработайте неявные дубликаты в столбце `education`. В этом столбце есть одни и те же значения, но записанные по-разному: с использованием заглавных и строчных букв. Приведите их к нижнему регистру.**"
   ]
  },
  {
   "cell_type": "code",
   "execution_count": 14,
   "id": "d89e73e1",
   "metadata": {
    "deletable": false,
    "id": "d89e73e1"
   },
   "outputs": [],
   "source": [
    "data['education'] = data['education'].str.lower()"
   ]
  },
  {
   "cell_type": "markdown",
   "id": "01d4500e",
   "metadata": {
    "deletable": false,
    "editable": false,
    "id": "01d4500e"
   },
   "source": [
    "**Задание 15. Выведите на экран количество строк-дубликатов в данных. Если такие строки присутствуют, удалите их.**"
   ]
  },
  {
   "cell_type": "code",
   "execution_count": 15,
   "id": "e10efb23",
   "metadata": {
    "deletable": false,
    "id": "e10efb23",
    "outputId": "9684deba-1934-42d1-99e1-cda61740f822"
   },
   "outputs": [
    {
     "data": {
      "text/plain": [
       "71"
      ]
     },
     "execution_count": 15,
     "metadata": {},
     "output_type": "execute_result"
    }
   ],
   "source": [
    "data.duplicated().sum()"
   ]
  },
  {
   "cell_type": "code",
   "execution_count": 16,
   "id": "df853f20",
   "metadata": {
    "deletable": false,
    "id": "df853f20"
   },
   "outputs": [],
   "source": [
    "data = data.drop_duplicates()"
   ]
  },
  {
   "cell_type": "markdown",
   "id": "627be38f",
   "metadata": {
    "deletable": false,
    "editable": false,
    "id": "627be38f"
   },
   "source": [
    "### Категоризация данных"
   ]
  },
  {
   "cell_type": "markdown",
   "id": "4684c3e0",
   "metadata": {
    "deletable": false,
    "editable": false,
    "id": "4684c3e0"
   },
   "source": [
    "**Задание 16. На основании диапазонов, указанных ниже, создайте в датафрейме `data` столбец `total_income_category` с категориями:**\n",
    "\n",
    "- 0–30000 — `'E'`;\n",
    "- 30001–50000 — `'D'`;\n",
    "- 50001–200000 — `'C'`;\n",
    "- 200001–1000000 — `'B'`;\n",
    "- 1000001 и выше — `'A'`.\n",
    "\n",
    "\n",
    "**Например, кредитополучателю с доходом 25000 нужно назначить категорию `'E'`, а клиенту, получающему 235000, — `'B'`. Используйте собственную функцию с именем `categorize_income()` и метод `apply()`.**"
   ]
  },
  {
   "cell_type": "code",
   "execution_count": 17,
   "id": "78965238",
   "metadata": {
    "deletable": false,
    "id": "78965238"
   },
   "outputs": [],
   "source": [
    "def categorize_income(income):\n",
    "    try:\n",
    "        if 0 <= income <= 30000:\n",
    "            return 'E'\n",
    "        elif 30001 <= income <= 50000:\n",
    "            return 'D'\n",
    "        elif 50001 <= income <= 200000:\n",
    "            return 'C'\n",
    "        elif 200001 <= income <= 1000000:\n",
    "            return 'B'\n",
    "        elif income >= 1000001:\n",
    "            return 'A'\n",
    "    except:\n",
    "        pass"
   ]
  },
  {
   "cell_type": "code",
   "execution_count": 18,
   "id": "0980ada1",
   "metadata": {
    "deletable": false,
    "id": "0980ada1"
   },
   "outputs": [],
   "source": [
    "data['total_income_category'] = data['total_income'].apply(categorize_income)"
   ]
  },
  {
   "cell_type": "markdown",
   "id": "9917bba0",
   "metadata": {
    "deletable": false,
    "editable": false,
    "id": "9917bba0"
   },
   "source": [
    "**Задание 17. Выведите на экран перечень уникальных целей взятия кредита из столбца `purpose`.**"
   ]
  },
  {
   "cell_type": "code",
   "execution_count": 19,
   "id": "ee07b65e",
   "metadata": {
    "deletable": false,
    "id": "ee07b65e",
    "outputId": "673c12d9-7d7e-4ae0-9812-c622c89dd244"
   },
   "outputs": [
    {
     "data": {
      "text/plain": [
       "array(['покупка жилья', 'приобретение автомобиля',\n",
       "       'дополнительное образование', 'сыграть свадьбу',\n",
       "       'операции с жильем', 'образование', 'на проведение свадьбы',\n",
       "       'покупка жилья для семьи', 'покупка недвижимости',\n",
       "       'покупка коммерческой недвижимости', 'покупка жилой недвижимости',\n",
       "       'строительство собственной недвижимости', 'недвижимость',\n",
       "       'строительство недвижимости', 'на покупку подержанного автомобиля',\n",
       "       'на покупку своего автомобиля',\n",
       "       'операции с коммерческой недвижимостью',\n",
       "       'строительство жилой недвижимости', 'жилье',\n",
       "       'операции со своей недвижимостью', 'автомобили',\n",
       "       'заняться образованием', 'сделка с подержанным автомобилем',\n",
       "       'получение образования', 'автомобиль', 'свадьба',\n",
       "       'получение дополнительного образования', 'покупка своего жилья',\n",
       "       'операции с недвижимостью', 'получение высшего образования',\n",
       "       'свой автомобиль', 'сделка с автомобилем',\n",
       "       'профильное образование', 'высшее образование',\n",
       "       'покупка жилья для сдачи', 'на покупку автомобиля', 'ремонт жилью',\n",
       "       'заняться высшим образованием'], dtype=object)"
      ]
     },
     "execution_count": 19,
     "metadata": {},
     "output_type": "execute_result"
    }
   ],
   "source": [
    "data['purpose'].unique()"
   ]
  },
  {
   "cell_type": "markdown",
   "id": "52b79d56",
   "metadata": {
    "deletable": false,
    "editable": false,
    "id": "52b79d56"
   },
   "source": [
    "**Задание 18. Создайте функцию, которая на основании данных из столбца `purpose` сформирует новый столбец `purpose_category`, в который войдут следующие категории:**\n",
    "\n",
    "- `'операции с автомобилем'`,\n",
    "- `'операции с недвижимостью'`,\n",
    "- `'проведение свадьбы'`,\n",
    "- `'получение образования'`.\n",
    "\n",
    "**Например, если в столбце `purpose` находится подстрока `'на покупку автомобиля'`, то в столбце `purpose_category` должна появиться строка `'операции с автомобилем'`.**\n",
    "\n",
    "**Используйте собственную функцию с именем `categorize_purpose()` и метод `apply()`. Изучите данные в столбце `purpose` и определите, какие подстроки помогут вам правильно определить категорию.**"
   ]
  },
  {
   "cell_type": "code",
   "execution_count": 20,
   "id": "be41da5d",
   "metadata": {
    "deletable": false,
    "id": "be41da5d"
   },
   "outputs": [],
   "source": [
    "def categorize_purpose(row):\n",
    "    try:\n",
    "        if 'автом' in row:\n",
    "            return 'операции с автомобилем'\n",
    "        elif 'жил' in row or 'недвиж' in row:\n",
    "            return 'операции с недвижимостью'\n",
    "        elif 'свад' in row:\n",
    "            return 'проведение свадьбы'\n",
    "        elif 'образов' in row:\n",
    "            return 'получение образования'\n",
    "    except:\n",
    "        return 'нет категории'"
   ]
  },
  {
   "cell_type": "code",
   "execution_count": 21,
   "id": "94c4a19a",
   "metadata": {
    "deletable": false,
    "id": "94c4a19a"
   },
   "outputs": [],
   "source": [
    "data['purpose_category'] = data['purpose'].apply(categorize_purpose)"
   ]
  },
  {
   "cell_type": "markdown",
   "id": "3d596c34",
   "metadata": {
    "deletable": false,
    "editable": false,
    "id": "3d596c34"
   },
   "source": [
    "### Шаг 3. Исследуйте данные и ответьте на вопросы"
   ]
  },
  {
   "cell_type": "markdown",
   "id": "648db036",
   "metadata": {
    "deletable": false,
    "editable": false,
    "id": "648db036"
   },
   "source": [
    "#### 3.1 Есть ли зависимость между количеством детей и возвратом кредита в срок?"
   ]
  },
  {
   "cell_type": "code",
   "execution_count": 22,
   "id": "4a1e1260",
   "metadata": {
    "scrolled": true
   },
   "outputs": [
    {
     "data": {
      "text/html": [
       "<div>\n",
       "<style scoped>\n",
       "    .dataframe tbody tr th:only-of-type {\n",
       "        vertical-align: middle;\n",
       "    }\n",
       "\n",
       "    .dataframe tbody tr th {\n",
       "        vertical-align: top;\n",
       "    }\n",
       "\n",
       "    .dataframe thead th {\n",
       "        text-align: right;\n",
       "    }\n",
       "</style>\n",
       "<table border=\"1\" class=\"dataframe\">\n",
       "  <thead>\n",
       "    <tr style=\"text-align: right;\">\n",
       "      <th></th>\n",
       "      <th>Кол-во детей</th>\n",
       "      <th>Всего кредитополучателей</th>\n",
       "      <th>Кол-во должников</th>\n",
       "      <th>Доля должников, %</th>\n",
       "    </tr>\n",
       "  </thead>\n",
       "  <tbody>\n",
       "    <tr>\n",
       "      <th>0</th>\n",
       "      <td>0</td>\n",
       "      <td>14091.0</td>\n",
       "      <td>1063.0</td>\n",
       "      <td>7.54</td>\n",
       "    </tr>\n",
       "    <tr>\n",
       "      <th>1</th>\n",
       "      <td>1</td>\n",
       "      <td>4808.0</td>\n",
       "      <td>444.0</td>\n",
       "      <td>9.23</td>\n",
       "    </tr>\n",
       "    <tr>\n",
       "      <th>2</th>\n",
       "      <td>2</td>\n",
       "      <td>2052.0</td>\n",
       "      <td>194.0</td>\n",
       "      <td>9.45</td>\n",
       "    </tr>\n",
       "    <tr>\n",
       "      <th>3</th>\n",
       "      <td>3</td>\n",
       "      <td>330.0</td>\n",
       "      <td>27.0</td>\n",
       "      <td>8.18</td>\n",
       "    </tr>\n",
       "    <tr>\n",
       "      <th>4</th>\n",
       "      <td>4</td>\n",
       "      <td>41.0</td>\n",
       "      <td>4.0</td>\n",
       "      <td>9.76</td>\n",
       "    </tr>\n",
       "    <tr>\n",
       "      <th>5</th>\n",
       "      <td>5</td>\n",
       "      <td>9.0</td>\n",
       "      <td>0.0</td>\n",
       "      <td>0.00</td>\n",
       "    </tr>\n",
       "  </tbody>\n",
       "</table>\n",
       "</div>"
      ],
      "text/plain": [
       "   Кол-во детей  Всего кредитополучателей  Кол-во должников  Доля должников, %\n",
       "0             0                   14091.0            1063.0               7.54\n",
       "1             1                    4808.0             444.0               9.23\n",
       "2             2                    2052.0             194.0               9.45\n",
       "3             3                     330.0              27.0               8.18\n",
       "4             4                      41.0               4.0               9.76\n",
       "5             5                       9.0               0.0               0.00"
      ]
     },
     "metadata": {},
     "output_type": "display_data"
    }
   ],
   "source": [
    "def my_children(source):\n",
    "    return source.sum() / source.count() #создаем собственную функцию\n",
    "data_children_debt = pd.pivot_table(data, index='children', values='debt', aggfunc=({'count','sum', my_children})).reset_index() #создаем сводную таблицу с собственной функцией\n",
    "data_children_debt['%_debtor'] = (data_children_debt['sum'] / data_children_debt['count'] * 100).round(2) #создаем новую колонку '%_debtor' в новой таблице\n",
    "del data_children_debt['my_children'] #удаляем колонку 'my_children' из таблицы\n",
    "data_children_debt = data_children_debt.rename(columns={'children': 'Кол-во детей', 'count': 'Всего кредитополучателей', 'sum': 'Кол-во должников', '%_debtor': 'Доля должников, %'}) #переименновываем колонки в таблице\n",
    "display(data_children_debt) #выводим таблицу на экран                                    "
   ]
  },
  {
   "cell_type": "markdown",
   "id": "2eb9088e",
   "metadata": {
    "deletable": false,
    "id": "2eb9088e"
   },
   "source": [
    "**Вывод:** Делая вывод о зависимости между количеством детей и возвратом кредита в срок, можно увидеть, что самые многочисленные категории - это семьи с 0, 1 и 2 детьми. Поэтому будем расчитывать долю должников в этих категориях кредитополучателей. Максимальный процент должников приходится на семьи у которых 2 ребенка, а минимальный - приходится на семьи с 0 детей. Это говорит о том, что с увелечением детей доля должников возрастает. "
   ]
  },
  {
   "cell_type": "markdown",
   "id": "74c9b3a7",
   "metadata": {
    "deletable": false,
    "editable": false,
    "id": "74c9b3a7"
   },
   "source": [
    "#### 3.2 Есть ли зависимость между семейным положением и возвратом кредита в срок?"
   ]
  },
  {
   "cell_type": "code",
   "execution_count": 23,
   "id": "8098ab3b",
   "metadata": {
    "deletable": false,
    "id": "8098ab3b"
   },
   "outputs": [
    {
     "data": {
      "text/html": [
       "<div>\n",
       "<style scoped>\n",
       "    .dataframe tbody tr th:only-of-type {\n",
       "        vertical-align: middle;\n",
       "    }\n",
       "\n",
       "    .dataframe tbody tr th {\n",
       "        vertical-align: top;\n",
       "    }\n",
       "\n",
       "    .dataframe thead th {\n",
       "        text-align: right;\n",
       "    }\n",
       "</style>\n",
       "<table border=\"1\" class=\"dataframe\">\n",
       "  <thead>\n",
       "    <tr style=\"text-align: right;\">\n",
       "      <th></th>\n",
       "      <th>Семейное положение</th>\n",
       "      <th>Всего кредитополучателей</th>\n",
       "      <th>Кол-во должников</th>\n",
       "      <th>Доля должников, %</th>\n",
       "    </tr>\n",
       "  </thead>\n",
       "  <tbody>\n",
       "    <tr>\n",
       "      <th>0</th>\n",
       "      <td>Не женат / не замужем</td>\n",
       "      <td>2796.0</td>\n",
       "      <td>273.0</td>\n",
       "      <td>9.76</td>\n",
       "    </tr>\n",
       "    <tr>\n",
       "      <th>1</th>\n",
       "      <td>в разводе</td>\n",
       "      <td>1189.0</td>\n",
       "      <td>84.0</td>\n",
       "      <td>7.06</td>\n",
       "    </tr>\n",
       "    <tr>\n",
       "      <th>2</th>\n",
       "      <td>вдовец / вдова</td>\n",
       "      <td>951.0</td>\n",
       "      <td>63.0</td>\n",
       "      <td>6.62</td>\n",
       "    </tr>\n",
       "    <tr>\n",
       "      <th>3</th>\n",
       "      <td>гражданский брак</td>\n",
       "      <td>4134.0</td>\n",
       "      <td>385.0</td>\n",
       "      <td>9.31</td>\n",
       "    </tr>\n",
       "    <tr>\n",
       "      <th>4</th>\n",
       "      <td>женат / замужем</td>\n",
       "      <td>12261.0</td>\n",
       "      <td>927.0</td>\n",
       "      <td>7.56</td>\n",
       "    </tr>\n",
       "  </tbody>\n",
       "</table>\n",
       "</div>"
      ],
      "text/plain": [
       "      Семейное положение  Всего кредитополучателей  Кол-во должников  \\\n",
       "0  Не женат / не замужем                    2796.0             273.0   \n",
       "1              в разводе                    1189.0              84.0   \n",
       "2         вдовец / вдова                     951.0              63.0   \n",
       "3       гражданский брак                    4134.0             385.0   \n",
       "4        женат / замужем                   12261.0             927.0   \n",
       "\n",
       "   Доля должников, %  \n",
       "0               9.76  \n",
       "1               7.06  \n",
       "2               6.62  \n",
       "3               9.31  \n",
       "4               7.56  "
      ]
     },
     "metadata": {},
     "output_type": "display_data"
    }
   ],
   "source": [
    "def my_family(source):\n",
    "    return source.sum() / source.count() #создаем собственную функцию\n",
    "data_family_debt = pd.pivot_table(data, index='family_status', values='debt', aggfunc=({'count','sum', my_family})).reset_index()#создаем сводную таблицу с собственной функцией\n",
    "data_family_debt['%_debtor'] = (data_family_debt['sum'] / data_family_debt['count'] * 100).round(2) #создаем новую колонку '%_debtor' в новой таблице\n",
    "del data_family_debt['my_family'] #удаляем колонку 'my_family' из таблицы\n",
    "data_family_debt = data_family_debt.rename(columns={'family_status': 'Семейное положение', 'count': 'Всего кредитополучателей', 'sum': 'Кол-во должников', '%_debtor': 'Доля должников, %'}) #переименновываем колонки в таблице\n",
    "display(data_family_debt) #выводим таблицу на экран"
   ]
  },
  {
   "cell_type": "markdown",
   "id": "c389ca63",
   "metadata": {
    "deletable": false,
    "id": "c389ca63"
   },
   "source": [
    "**Вывод:** при вычислении доли должников можно сделать вывод о том, что максимальный процент должников приходится на семейное положение \"Не женат / не замужем\", а минимальный процент должников приходится на семейное положение \"вдовец / вдова\". "
   ]
  },
  {
   "cell_type": "markdown",
   "id": "9529de68",
   "metadata": {
    "deletable": false,
    "editable": false,
    "id": "9529de68"
   },
   "source": [
    "#### 3.3 Есть ли зависимость между уровнем дохода и возвратом кредита в срок?"
   ]
  },
  {
   "cell_type": "code",
   "execution_count": 24,
   "id": "8787f44a",
   "metadata": {
    "deletable": false,
    "id": "8787f44a"
   },
   "outputs": [
    {
     "data": {
      "text/html": [
       "<div>\n",
       "<style scoped>\n",
       "    .dataframe tbody tr th:only-of-type {\n",
       "        vertical-align: middle;\n",
       "    }\n",
       "\n",
       "    .dataframe tbody tr th {\n",
       "        vertical-align: top;\n",
       "    }\n",
       "\n",
       "    .dataframe thead th {\n",
       "        text-align: right;\n",
       "    }\n",
       "</style>\n",
       "<table border=\"1\" class=\"dataframe\">\n",
       "  <thead>\n",
       "    <tr style=\"text-align: right;\">\n",
       "      <th></th>\n",
       "      <th>Уровень дохода</th>\n",
       "      <th>Всего кредитополучателей</th>\n",
       "      <th>Кол-во должников</th>\n",
       "      <th>Доля должников, %</th>\n",
       "    </tr>\n",
       "  </thead>\n",
       "  <tbody>\n",
       "    <tr>\n",
       "      <th>0</th>\n",
       "      <td>A</td>\n",
       "      <td>25.0</td>\n",
       "      <td>2.0</td>\n",
       "      <td>8.00</td>\n",
       "    </tr>\n",
       "    <tr>\n",
       "      <th>1</th>\n",
       "      <td>B</td>\n",
       "      <td>5014.0</td>\n",
       "      <td>354.0</td>\n",
       "      <td>7.06</td>\n",
       "    </tr>\n",
       "    <tr>\n",
       "      <th>2</th>\n",
       "      <td>C</td>\n",
       "      <td>15921.0</td>\n",
       "      <td>1353.0</td>\n",
       "      <td>8.50</td>\n",
       "    </tr>\n",
       "    <tr>\n",
       "      <th>3</th>\n",
       "      <td>D</td>\n",
       "      <td>349.0</td>\n",
       "      <td>21.0</td>\n",
       "      <td>6.02</td>\n",
       "    </tr>\n",
       "    <tr>\n",
       "      <th>4</th>\n",
       "      <td>E</td>\n",
       "      <td>22.0</td>\n",
       "      <td>2.0</td>\n",
       "      <td>9.09</td>\n",
       "    </tr>\n",
       "  </tbody>\n",
       "</table>\n",
       "</div>"
      ],
      "text/plain": [
       "  Уровень дохода  Всего кредитополучателей  Кол-во должников  \\\n",
       "0              A                      25.0               2.0   \n",
       "1              B                    5014.0             354.0   \n",
       "2              C                   15921.0            1353.0   \n",
       "3              D                     349.0              21.0   \n",
       "4              E                      22.0               2.0   \n",
       "\n",
       "   Доля должников, %  \n",
       "0               8.00  \n",
       "1               7.06  \n",
       "2               8.50  \n",
       "3               6.02  \n",
       "4               9.09  "
      ]
     },
     "metadata": {},
     "output_type": "display_data"
    }
   ],
   "source": [
    "def my_income(source):\n",
    "    return source.sum() / source.count() #создаем собственную функцию\n",
    "data_income_debt = pd.pivot_table(data, index='total_income_category', values='debt', aggfunc=({'count','sum', my_income})).reset_index() #создаем сводную таблицу с собственной функцией\n",
    "data_income_debt['%_debtor'] = (data_income_debt['sum'] / data_income_debt['count'] * 100).round(2) #создаем новую колонку '%_debtor' в новой таблице\n",
    "del data_income_debt['my_income'] #удаляем колонку 'my_income' из таблицы\n",
    "data_income_debt = data_income_debt.rename(columns={'total_income_category': 'Уровень дохода', 'count': 'Всего кредитополучателей', 'sum': 'Кол-во должников', '%_debtor': 'Доля должников, %'}) #переименновываем колонки в таблице\n",
    "display(data_income_debt) #выводим таблицу на экран "
   ]
  },
  {
   "cell_type": "markdown",
   "id": "6dd14b57",
   "metadata": {
    "deletable": false,
    "id": "6dd14b57"
   },
   "source": [
    "**Вывод:** Делая вывод о зависимости между уровнем дохода и возвратом кредита в срок, можно увидеть, что самые многочисленные категории - это семьи с уровнем дохода В и С. Поэтому будем расчитывать долю должников в этих категориях кредитополучателей. Максимальный процент должников приходится на семьи с уровнем дохода С, а минимальный - приходится на семьи с уровнем дохода В. Это говорит о том, что с уменьшением уровня дохода доля должников возрастает. "
   ]
  },
  {
   "cell_type": "markdown",
   "id": "1dcc9b12",
   "metadata": {
    "deletable": false,
    "editable": false,
    "id": "1dcc9b12"
   },
   "source": [
    "#### 3.4 Как разные цели кредита влияют на его возврат в срок?"
   ]
  },
  {
   "cell_type": "code",
   "execution_count": 25,
   "id": "c602bc8b",
   "metadata": {
    "deletable": false,
    "id": "c602bc8b",
    "scrolled": true
   },
   "outputs": [
    {
     "data": {
      "text/html": [
       "<div>\n",
       "<style scoped>\n",
       "    .dataframe tbody tr th:only-of-type {\n",
       "        vertical-align: middle;\n",
       "    }\n",
       "\n",
       "    .dataframe tbody tr th {\n",
       "        vertical-align: top;\n",
       "    }\n",
       "\n",
       "    .dataframe thead th {\n",
       "        text-align: right;\n",
       "    }\n",
       "</style>\n",
       "<table border=\"1\" class=\"dataframe\">\n",
       "  <thead>\n",
       "    <tr style=\"text-align: right;\">\n",
       "      <th></th>\n",
       "      <th>Категории цели</th>\n",
       "      <th>Всего кредитополучателей</th>\n",
       "      <th>Кол-во должников</th>\n",
       "      <th>Доля должников, %</th>\n",
       "    </tr>\n",
       "  </thead>\n",
       "  <tbody>\n",
       "    <tr>\n",
       "      <th>0</th>\n",
       "      <td>операции с автомобилем</td>\n",
       "      <td>4279.0</td>\n",
       "      <td>400.0</td>\n",
       "      <td>9.35</td>\n",
       "    </tr>\n",
       "    <tr>\n",
       "      <th>1</th>\n",
       "      <td>операции с недвижимостью</td>\n",
       "      <td>10751.0</td>\n",
       "      <td>780.0</td>\n",
       "      <td>7.26</td>\n",
       "    </tr>\n",
       "    <tr>\n",
       "      <th>2</th>\n",
       "      <td>получение образования</td>\n",
       "      <td>3988.0</td>\n",
       "      <td>369.0</td>\n",
       "      <td>9.25</td>\n",
       "    </tr>\n",
       "    <tr>\n",
       "      <th>3</th>\n",
       "      <td>проведение свадьбы</td>\n",
       "      <td>2313.0</td>\n",
       "      <td>183.0</td>\n",
       "      <td>7.91</td>\n",
       "    </tr>\n",
       "  </tbody>\n",
       "</table>\n",
       "</div>"
      ],
      "text/plain": [
       "             Категории цели  Всего кредитополучателей  Кол-во должников  \\\n",
       "0    операции с автомобилем                    4279.0             400.0   \n",
       "1  операции с недвижимостью                   10751.0             780.0   \n",
       "2     получение образования                    3988.0             369.0   \n",
       "3        проведение свадьбы                    2313.0             183.0   \n",
       "\n",
       "   Доля должников, %  \n",
       "0               9.35  \n",
       "1               7.26  \n",
       "2               9.25  \n",
       "3               7.91  "
      ]
     },
     "metadata": {},
     "output_type": "display_data"
    }
   ],
   "source": [
    "def my_purpose(source):\n",
    "    return source.sum() / source.count() #создаем собственную функцию\n",
    "data_purpose_debt = pd.pivot_table(data, index='purpose_category', values='debt', aggfunc=({'count','sum', my_purpose})).reset_index() #создаем сводную таблицу с собственной функцией\n",
    "data_purpose_debt['%_debtor'] = (data_purpose_debt['sum'] / data_purpose_debt['count'] * 100).round(2) #создаем новую колонку '%_debtor' в новой таблице\n",
    "del data_purpose_debt['my_purpose'] #удаляем колонку 'my_purpose' из таблицы\n",
    "data_purpose_debt = data_purpose_debt.rename(columns={'purpose_category': 'Категории цели', 'count': 'Всего кредитополучателей', 'sum': 'Кол-во должников', '%_debtor': 'Доля должников, %'}) #переименновываем колонки в таблице\n",
    "display(data_purpose_debt) #выводим таблицу на экран "
   ]
  },
  {
   "cell_type": "markdown",
   "id": "cf05ed63",
   "metadata": {
    "deletable": false,
    "id": "cf05ed63"
   },
   "source": [
    "**Вывод:** при вычислении доли должников можно сделать вывод о том, что максимальный процент должников приходится на категории целей \"операции с автомобилем\", а минимальный процент должников приходится на категории целей \"операции с недвижимостью\"."
   ]
  },
  {
   "cell_type": "markdown",
   "id": "46c1f10b",
   "metadata": {
    "deletable": false,
    "editable": false,
    "id": "46c1f10b"
   },
   "source": [
    "#### 3.5 Приведите возможные причины появления пропусков в исходных данных."
   ]
  },
  {
   "cell_type": "markdown",
   "id": "3697d2a9",
   "metadata": {
    "deletable": false,
    "id": "3697d2a9"
   },
   "source": [
    "*Ответ:* Пропуски в данных могут появиться по разным причинам. Обычно их делять на три группы: полностью случайные (никак не связаны с данными, например при поломке измерительного прибора), случайные (такие пропуски зависят от некоторой известной нам переменной) и неслучайные (вероятность пропуска зависит от информации в ней). Так же появление пропусков может быть связано с злоупортреблением полномочий. "
   ]
  },
  {
   "cell_type": "markdown",
   "id": "3137d257",
   "metadata": {
    "deletable": false,
    "editable": false,
    "id": "3137d257"
   },
   "source": [
    "#### 3.6 Объясните, почему заполнить пропуски медианным значением — лучшее решение для количественных переменных."
   ]
  },
  {
   "cell_type": "markdown",
   "id": "cf40012a",
   "metadata": {
    "deletable": false,
    "id": "cf40012a"
   },
   "source": [
    "*Ответ:*  Медианное значение будет корректно характеризовывать данные, когда некоторые значения сильно выделяются среди большенства."
   ]
  },
  {
   "cell_type": "markdown",
   "id": "57bc304e",
   "metadata": {
    "deletable": false,
    "editable": false,
    "id": "57bc304e"
   },
   "source": [
    "### Шаг 4: общий вывод."
   ]
  },
  {
   "cell_type": "markdown",
   "id": "1ab75d1c",
   "metadata": {
    "deletable": false,
    "id": "1ab75d1c"
   },
   "source": [
    "В данном исследовании мы работали с данными от банка, это была статистика о платежеспособности клиента. На этапе предобработки  мы нашли и заполнили пропуски с данными, обработали и удалили аномальные значения. Некоторые пропуски потребовалось заполнить медианными значениями. Затем заменили вещественный тип данных на целечисленный. Обработали неявные дубликаты в столбце \"Образование\" приведя их к нижнему регистру. После мы сделали категоризацию данных по двум столбцам: доходы и цели. \n",
    "\n",
    "Закончив предобработку данных можно было начать кредитный скоринг и разобраться, влияет ли семейное положение и количество детей клиента на факт погашения кредита в срок.\n",
    "\n",
    "**В итоге было обнаружено:**\n",
    "\n",
    "1) с увелечением детей доля должников возрастает;\n",
    "\n",
    "2) минимальный процент должников приходится на семейное положение \"вдовец / вдова\";\n",
    "\n",
    "3) с уменьшением уровня дохода доля должников возрастает;\n",
    "\n",
    "4) минимальный процент должников приходится на категории целей \"операции с недвижимостью\".\n",
    "\n",
    "**Рекомендации для банка по сбору данных и скорингу:**\n",
    "\n",
    "1) Улучшить качество данных. Банк должен стремиться к тому, чтобы данные, используемые для скоринга, были максимально точными и полными. Это включает в себя актуальность информации, устранение ошибок и пропусков, а также проверку данных на достоверность.\n",
    "\n",
    "2) Стандартизация данных. Важно стандартизировать формат данных, чтобы облегчить процесс анализа и оценки. Это может включать в себя использование стандартных кодов и классификаторов, а также создание единой системы сбора и обработки данных.\n",
    "\n",
    "3) Очистка и интеграция данных. Необходимо проводить очистку и интеграцию данных, полученных из различных источников. Это поможет устранить дублирование и противоречивые записи, что может улучшить качество данных.\n",
    "\n",
    "4) Использование современных технологий. Банк может использовать современные технологии, такие как машинное обучение, для анализа данных и создания более точных моделей скоринга.\n",
    "\n",
    "5) Регулярное обновление моделей скоринга. Модели скоринга должны регулярно обновляться с учетом новых данных и изменений в поведении клиентов, чтобы обеспечить их точность и актуальность.\n",
    "\n",
    "6) Проведение анализа данных. Банк должен проводить регулярный анализ данных, чтобы определить тенденции и паттерны, которые могут помочь улучшить процесс скоринга и принятие решений."
   ]
  },
  {
   "cell_type": "markdown",
   "id": "fd3bd879",
   "metadata": {
    "deletable": false,
    "id": "7fcff25e",
    "scrolled": true
   },
   "source": []
  },
  {
   "cell_type": "markdown",
   "id": "ffe86f65",
   "metadata": {
    "deletable": false,
    "editable": false,
    "id": "ffe86f65"
   },
   "source": [
    "Во второй части проекта вы выполните шаги 3 и 4. Их вручную проверит ревьюер.\n",
    "Чтобы вам не пришлось писать код заново для шагов 1 и 2, мы добавили авторские решения в ячейки с кодом. \n",
    "\n"
   ]
  }
 ],
 "metadata": {
  "ExecuteTimeLog": [
   {
    "duration": 47,
    "start_time": "2024-02-13T11:57:22.590Z"
   },
   {
    "duration": 455,
    "start_time": "2024-02-13T11:58:35.944Z"
   },
   {
    "duration": 22,
    "start_time": "2024-02-13T11:58:37.681Z"
   },
   {
    "duration": 17,
    "start_time": "2024-02-13T11:58:38.530Z"
   },
   {
    "duration": 10,
    "start_time": "2024-02-13T11:58:39.688Z"
   },
   {
    "duration": 33,
    "start_time": "2024-02-13T11:58:40.080Z"
   },
   {
    "duration": 3,
    "start_time": "2024-02-13T11:58:40.644Z"
   },
   {
    "duration": 8,
    "start_time": "2024-02-13T11:58:41.031Z"
   },
   {
    "duration": 4,
    "start_time": "2024-02-13T11:58:41.577Z"
   },
   {
    "duration": 6,
    "start_time": "2024-02-13T11:58:41.915Z"
   },
   {
    "duration": 4,
    "start_time": "2024-02-13T11:58:42.289Z"
   },
   {
    "duration": 33,
    "start_time": "2024-02-13T11:58:42.872Z"
   },
   {
    "duration": 10,
    "start_time": "2024-02-13T11:58:43.273Z"
   },
   {
    "duration": 3,
    "start_time": "2024-02-13T11:58:43.897Z"
   },
   {
    "duration": 11,
    "start_time": "2024-02-13T11:58:44.537Z"
   },
   {
    "duration": 18,
    "start_time": "2024-02-13T11:58:44.944Z"
   },
   {
    "duration": 17,
    "start_time": "2024-02-13T11:58:45.776Z"
   },
   {
    "duration": 3,
    "start_time": "2024-02-13T11:58:46.489Z"
   },
   {
    "duration": 10,
    "start_time": "2024-02-13T11:58:46.672Z"
   },
   {
    "duration": 5,
    "start_time": "2024-02-13T11:58:47.052Z"
   },
   {
    "duration": 4,
    "start_time": "2024-02-13T11:58:48.384Z"
   },
   {
    "duration": 8,
    "start_time": "2024-02-13T11:58:48.633Z"
   },
   {
    "duration": 6,
    "start_time": "2024-02-13T11:58:50.915Z"
   },
   {
    "duration": 4,
    "start_time": "2024-02-13T11:59:01.561Z"
   },
   {
    "duration": 4,
    "start_time": "2024-02-13T11:59:17.571Z"
   },
   {
    "duration": 6,
    "start_time": "2024-02-13T12:00:07.443Z"
   },
   {
    "duration": 5,
    "start_time": "2024-02-13T12:00:19.947Z"
   },
   {
    "duration": 5,
    "start_time": "2024-02-13T12:00:30.067Z"
   },
   {
    "duration": 5,
    "start_time": "2024-02-13T12:00:57.668Z"
   },
   {
    "duration": 7,
    "start_time": "2024-02-13T12:27:38.186Z"
   },
   {
    "duration": 7,
    "start_time": "2024-02-13T12:28:06.843Z"
   },
   {
    "duration": 6,
    "start_time": "2024-02-13T12:28:20.672Z"
   },
   {
    "duration": 5,
    "start_time": "2024-02-13T12:28:35.192Z"
   },
   {
    "duration": 7,
    "start_time": "2024-02-13T12:28:43.212Z"
   },
   {
    "duration": 547,
    "start_time": "2024-02-14T09:48:00.227Z"
   },
   {
    "duration": 21,
    "start_time": "2024-02-14T09:48:01.559Z"
   },
   {
    "duration": 18,
    "start_time": "2024-02-14T09:48:01.902Z"
   },
   {
    "duration": 10,
    "start_time": "2024-02-14T09:48:02.607Z"
   },
   {
    "duration": 33,
    "start_time": "2024-02-14T09:48:02.927Z"
   },
   {
    "duration": 3,
    "start_time": "2024-02-14T09:48:03.415Z"
   },
   {
    "duration": 8,
    "start_time": "2024-02-14T09:48:03.758Z"
   },
   {
    "duration": 4,
    "start_time": "2024-02-14T09:48:04.286Z"
   },
   {
    "duration": 6,
    "start_time": "2024-02-14T09:48:04.655Z"
   },
   {
    "duration": 4,
    "start_time": "2024-02-14T09:48:05.039Z"
   },
   {
    "duration": 33,
    "start_time": "2024-02-14T09:48:05.542Z"
   },
   {
    "duration": 10,
    "start_time": "2024-02-14T09:48:05.894Z"
   },
   {
    "duration": 4,
    "start_time": "2024-02-14T09:48:06.438Z"
   },
   {
    "duration": 12,
    "start_time": "2024-02-14T09:48:06.975Z"
   },
   {
    "duration": 18,
    "start_time": "2024-02-14T09:48:07.375Z"
   },
   {
    "duration": 17,
    "start_time": "2024-02-14T09:48:07.550Z"
   },
   {
    "duration": 3,
    "start_time": "2024-02-14T09:48:08.111Z"
   },
   {
    "duration": 10,
    "start_time": "2024-02-14T09:48:08.430Z"
   },
   {
    "duration": 5,
    "start_time": "2024-02-14T09:48:09.151Z"
   },
   {
    "duration": 3,
    "start_time": "2024-02-14T09:48:09.871Z"
   },
   {
    "duration": 7,
    "start_time": "2024-02-14T09:48:10.207Z"
   },
   {
    "duration": 58,
    "start_time": "2024-02-14T10:10:49.622Z"
   },
   {
    "duration": 8,
    "start_time": "2024-02-14T10:11:02.667Z"
   },
   {
    "duration": 3,
    "start_time": "2024-02-14T10:11:04.759Z"
   },
   {
    "duration": 8,
    "start_time": "2024-02-14T10:11:05.711Z"
   },
   {
    "duration": 4,
    "start_time": "2024-02-14T10:12:54.026Z"
   },
   {
    "duration": 7,
    "start_time": "2024-02-14T10:13:07.370Z"
   },
   {
    "duration": 3,
    "start_time": "2024-02-14T10:13:58.826Z"
   },
   {
    "duration": 3,
    "start_time": "2024-02-14T10:14:37.644Z"
   },
   {
    "duration": 7,
    "start_time": "2024-02-14T10:17:06.064Z"
   },
   {
    "duration": 7,
    "start_time": "2024-02-14T10:17:47.664Z"
   },
   {
    "duration": 10,
    "start_time": "2024-02-14T10:18:54.306Z"
   },
   {
    "duration": 17,
    "start_time": "2024-02-14T10:19:03.970Z"
   },
   {
    "duration": 7,
    "start_time": "2024-02-14T10:19:47.043Z"
   },
   {
    "duration": 6,
    "start_time": "2024-02-14T10:20:32.557Z"
   },
   {
    "duration": 3,
    "start_time": "2024-02-14T10:20:41.389Z"
   },
   {
    "duration": 2,
    "start_time": "2024-02-14T10:20:44.965Z"
   },
   {
    "duration": 4,
    "start_time": "2024-02-14T10:27:04.951Z"
   },
   {
    "duration": 9,
    "start_time": "2024-02-14T10:34:18.395Z"
   },
   {
    "duration": 97,
    "start_time": "2024-02-14T10:34:29.498Z"
   },
   {
    "duration": 8,
    "start_time": "2024-02-14T10:34:34.539Z"
   },
   {
    "duration": 5,
    "start_time": "2024-02-14T10:34:40.963Z"
   },
   {
    "duration": 7,
    "start_time": "2024-02-14T10:36:32.246Z"
   },
   {
    "duration": 7,
    "start_time": "2024-02-14T10:38:44.210Z"
   },
   {
    "duration": 7,
    "start_time": "2024-02-14T10:39:44.435Z"
   },
   {
    "duration": 7,
    "start_time": "2024-02-14T10:39:57.924Z"
   },
   {
    "duration": 9,
    "start_time": "2024-02-14T10:40:07.597Z"
   },
   {
    "duration": 7,
    "start_time": "2024-02-14T10:40:27.357Z"
   },
   {
    "duration": 7,
    "start_time": "2024-02-14T10:40:47.359Z"
   },
   {
    "duration": 84,
    "start_time": "2024-02-14T10:47:00.687Z"
   },
   {
    "duration": 89,
    "start_time": "2024-02-14T10:47:27.510Z"
   },
   {
    "duration": 90,
    "start_time": "2024-02-14T11:00:16.512Z"
   },
   {
    "duration": 91,
    "start_time": "2024-02-14T11:00:22.983Z"
   },
   {
    "duration": 9,
    "start_time": "2024-02-14T11:00:35.936Z"
   },
   {
    "duration": 16,
    "start_time": "2024-02-14T11:08:13.635Z"
   },
   {
    "duration": 12,
    "start_time": "2024-02-14T11:08:21.155Z"
   },
   {
    "duration": 83,
    "start_time": "2024-02-14T11:46:02.040Z"
   },
   {
    "duration": 19,
    "start_time": "2024-02-14T11:47:06.250Z"
   },
   {
    "duration": 8,
    "start_time": "2024-02-14T11:47:50.738Z"
   },
   {
    "duration": 7,
    "start_time": "2024-02-14T11:48:14.886Z"
   },
   {
    "duration": 7,
    "start_time": "2024-02-14T11:48:30.772Z"
   },
   {
    "duration": 7,
    "start_time": "2024-02-14T11:50:02.958Z"
   },
   {
    "duration": 16,
    "start_time": "2024-02-14T11:50:39.208Z"
   },
   {
    "duration": 8,
    "start_time": "2024-02-14T11:51:08.256Z"
   },
   {
    "duration": 7,
    "start_time": "2024-02-14T11:51:13.600Z"
   },
   {
    "duration": 7,
    "start_time": "2024-02-14T11:51:49.114Z"
   },
   {
    "duration": 7,
    "start_time": "2024-02-14T11:51:57.081Z"
   },
   {
    "duration": 6,
    "start_time": "2024-02-14T11:52:07.995Z"
   },
   {
    "duration": 74,
    "start_time": "2024-02-14T11:52:13.744Z"
   },
   {
    "duration": 14,
    "start_time": "2024-02-14T11:52:14.118Z"
   },
   {
    "duration": 15,
    "start_time": "2024-02-14T11:52:14.881Z"
   },
   {
    "duration": 10,
    "start_time": "2024-02-14T11:52:15.123Z"
   },
   {
    "duration": 40,
    "start_time": "2024-02-14T11:52:15.457Z"
   },
   {
    "duration": 3,
    "start_time": "2024-02-14T11:52:15.977Z"
   },
   {
    "duration": 8,
    "start_time": "2024-02-14T11:52:16.337Z"
   },
   {
    "duration": 4,
    "start_time": "2024-02-14T11:52:16.866Z"
   },
   {
    "duration": 5,
    "start_time": "2024-02-14T11:52:17.250Z"
   },
   {
    "duration": 5,
    "start_time": "2024-02-14T11:52:17.617Z"
   },
   {
    "duration": 34,
    "start_time": "2024-02-14T11:52:18.169Z"
   },
   {
    "duration": 9,
    "start_time": "2024-02-14T11:52:18.513Z"
   },
   {
    "duration": 3,
    "start_time": "2024-02-14T11:52:19.058Z"
   },
   {
    "duration": 10,
    "start_time": "2024-02-14T11:52:19.609Z"
   },
   {
    "duration": 19,
    "start_time": "2024-02-14T11:52:19.969Z"
   },
   {
    "duration": 17,
    "start_time": "2024-02-14T11:52:22.642Z"
   },
   {
    "duration": 4,
    "start_time": "2024-02-14T11:52:23.905Z"
   },
   {
    "duration": 13,
    "start_time": "2024-02-14T11:52:24.290Z"
   },
   {
    "duration": 5,
    "start_time": "2024-02-14T11:52:25.178Z"
   },
   {
    "duration": 3,
    "start_time": "2024-02-14T11:52:26.177Z"
   },
   {
    "duration": 9,
    "start_time": "2024-02-14T11:52:27.042Z"
   },
   {
    "duration": 7,
    "start_time": "2024-02-14T11:52:45.442Z"
   },
   {
    "duration": 14,
    "start_time": "2024-02-14T11:53:00.531Z"
   },
   {
    "duration": 8,
    "start_time": "2024-02-14T11:53:53.204Z"
   },
   {
    "duration": 7,
    "start_time": "2024-02-14T11:53:58.508Z"
   },
   {
    "duration": 7,
    "start_time": "2024-02-14T11:54:11.372Z"
   },
   {
    "duration": 6,
    "start_time": "2024-02-14T11:54:19.628Z"
   },
   {
    "duration": 73,
    "start_time": "2024-02-14T11:54:26.884Z"
   },
   {
    "duration": 15,
    "start_time": "2024-02-14T11:54:27.232Z"
   },
   {
    "duration": 15,
    "start_time": "2024-02-14T11:54:27.588Z"
   },
   {
    "duration": 10,
    "start_time": "2024-02-14T11:54:28.260Z"
   },
   {
    "duration": 32,
    "start_time": "2024-02-14T11:54:28.621Z"
   },
   {
    "duration": 3,
    "start_time": "2024-02-14T11:54:29.116Z"
   },
   {
    "duration": 7,
    "start_time": "2024-02-14T11:54:29.451Z"
   },
   {
    "duration": 4,
    "start_time": "2024-02-14T11:54:29.939Z"
   },
   {
    "duration": 5,
    "start_time": "2024-02-14T11:54:30.276Z"
   },
   {
    "duration": 5,
    "start_time": "2024-02-14T11:54:30.620Z"
   },
   {
    "duration": 39,
    "start_time": "2024-02-14T11:54:31.116Z"
   },
   {
    "duration": 10,
    "start_time": "2024-02-14T11:54:31.396Z"
   },
   {
    "duration": 3,
    "start_time": "2024-02-14T11:54:31.884Z"
   },
   {
    "duration": 10,
    "start_time": "2024-02-14T11:54:32.436Z"
   },
   {
    "duration": 18,
    "start_time": "2024-02-14T11:54:32.781Z"
   },
   {
    "duration": 18,
    "start_time": "2024-02-14T11:54:32.949Z"
   },
   {
    "duration": 4,
    "start_time": "2024-02-14T11:54:33.525Z"
   },
   {
    "duration": 11,
    "start_time": "2024-02-14T11:54:33.700Z"
   },
   {
    "duration": 6,
    "start_time": "2024-02-14T11:54:34.044Z"
   },
   {
    "duration": 3,
    "start_time": "2024-02-14T11:54:34.420Z"
   },
   {
    "duration": 8,
    "start_time": "2024-02-14T11:54:34.613Z"
   },
   {
    "duration": 15,
    "start_time": "2024-02-14T11:54:38.093Z"
   },
   {
    "duration": 7,
    "start_time": "2024-02-14T11:55:01.805Z"
   },
   {
    "duration": 8,
    "start_time": "2024-02-14T11:55:05.757Z"
   },
   {
    "duration": 6,
    "start_time": "2024-02-14T11:55:11.598Z"
   },
   {
    "duration": 71,
    "start_time": "2024-02-14T11:55:16.533Z"
   },
   {
    "duration": 15,
    "start_time": "2024-02-14T11:55:16.926Z"
   },
   {
    "duration": 14,
    "start_time": "2024-02-14T11:55:17.302Z"
   },
   {
    "duration": 12,
    "start_time": "2024-02-14T11:55:17.941Z"
   },
   {
    "duration": 33,
    "start_time": "2024-02-14T11:55:18.285Z"
   },
   {
    "duration": 4,
    "start_time": "2024-02-14T11:55:18.877Z"
   },
   {
    "duration": 8,
    "start_time": "2024-02-14T11:55:19.245Z"
   },
   {
    "duration": 5,
    "start_time": "2024-02-14T11:55:19.741Z"
   },
   {
    "duration": 6,
    "start_time": "2024-02-14T11:55:20.062Z"
   },
   {
    "duration": 4,
    "start_time": "2024-02-14T11:55:20.414Z"
   },
   {
    "duration": 32,
    "start_time": "2024-02-14T11:55:20.941Z"
   },
   {
    "duration": 11,
    "start_time": "2024-02-14T11:55:21.245Z"
   },
   {
    "duration": 4,
    "start_time": "2024-02-14T11:55:21.685Z"
   },
   {
    "duration": 11,
    "start_time": "2024-02-14T11:55:22.190Z"
   },
   {
    "duration": 20,
    "start_time": "2024-02-14T11:55:22.541Z"
   },
   {
    "duration": 17,
    "start_time": "2024-02-14T11:55:22.725Z"
   },
   {
    "duration": 3,
    "start_time": "2024-02-14T11:55:23.294Z"
   },
   {
    "duration": 12,
    "start_time": "2024-02-14T11:55:23.461Z"
   },
   {
    "duration": 6,
    "start_time": "2024-02-14T11:55:23.885Z"
   },
   {
    "duration": 4,
    "start_time": "2024-02-14T11:55:24.293Z"
   },
   {
    "duration": 8,
    "start_time": "2024-02-14T11:55:24.509Z"
   },
   {
    "duration": 10,
    "start_time": "2024-02-14T11:55:25.054Z"
   },
   {
    "duration": 6,
    "start_time": "2024-02-14T11:55:25.238Z"
   },
   {
    "duration": 7,
    "start_time": "2024-02-14T11:55:40.614Z"
   },
   {
    "duration": 6,
    "start_time": "2024-02-14T11:55:44.679Z"
   },
   {
    "duration": 71,
    "start_time": "2024-02-14T11:55:50.438Z"
   },
   {
    "duration": 14,
    "start_time": "2024-02-14T11:55:50.774Z"
   },
   {
    "duration": 15,
    "start_time": "2024-02-14T11:55:51.110Z"
   },
   {
    "duration": 10,
    "start_time": "2024-02-14T11:55:51.757Z"
   },
   {
    "duration": 33,
    "start_time": "2024-02-14T11:55:52.069Z"
   },
   {
    "duration": 3,
    "start_time": "2024-02-14T11:55:52.566Z"
   },
   {
    "duration": 8,
    "start_time": "2024-02-14T11:55:52.925Z"
   },
   {
    "duration": 4,
    "start_time": "2024-02-14T11:55:53.445Z"
   },
   {
    "duration": 5,
    "start_time": "2024-02-14T11:55:53.790Z"
   },
   {
    "duration": 4,
    "start_time": "2024-02-14T11:55:54.230Z"
   },
   {
    "duration": 41,
    "start_time": "2024-02-14T11:55:54.645Z"
   },
   {
    "duration": 10,
    "start_time": "2024-02-14T11:55:54.966Z"
   },
   {
    "duration": 4,
    "start_time": "2024-02-14T11:55:55.454Z"
   },
   {
    "duration": 10,
    "start_time": "2024-02-14T11:55:55.917Z"
   },
   {
    "duration": 18,
    "start_time": "2024-02-14T11:55:56.261Z"
   },
   {
    "duration": 18,
    "start_time": "2024-02-14T11:55:56.430Z"
   },
   {
    "duration": 4,
    "start_time": "2024-02-14T11:55:56.958Z"
   },
   {
    "duration": 9,
    "start_time": "2024-02-14T11:55:57.150Z"
   },
   {
    "duration": 5,
    "start_time": "2024-02-14T11:55:57.519Z"
   },
   {
    "duration": 3,
    "start_time": "2024-02-14T11:55:57.902Z"
   },
   {
    "duration": 9,
    "start_time": "2024-02-14T11:55:58.117Z"
   },
   {
    "duration": 11,
    "start_time": "2024-02-14T11:55:59.046Z"
   },
   {
    "duration": 9,
    "start_time": "2024-02-14T12:03:08.248Z"
   },
   {
    "duration": 68,
    "start_time": "2024-02-14T12:03:15.744Z"
   },
   {
    "duration": 14,
    "start_time": "2024-02-14T12:03:16.092Z"
   },
   {
    "duration": 15,
    "start_time": "2024-02-14T12:03:16.535Z"
   },
   {
    "duration": 11,
    "start_time": "2024-02-14T12:03:17.311Z"
   },
   {
    "duration": 35,
    "start_time": "2024-02-14T12:03:17.655Z"
   },
   {
    "duration": 3,
    "start_time": "2024-02-14T12:03:18.128Z"
   },
   {
    "duration": 9,
    "start_time": "2024-02-14T12:03:18.506Z"
   },
   {
    "duration": 4,
    "start_time": "2024-02-14T12:03:19.056Z"
   },
   {
    "duration": 5,
    "start_time": "2024-02-14T12:03:19.409Z"
   },
   {
    "duration": 4,
    "start_time": "2024-02-14T12:03:19.760Z"
   },
   {
    "duration": 38,
    "start_time": "2024-02-14T12:03:20.287Z"
   },
   {
    "duration": 10,
    "start_time": "2024-02-14T12:03:20.672Z"
   },
   {
    "duration": 4,
    "start_time": "2024-02-14T12:03:21.288Z"
   },
   {
    "duration": 11,
    "start_time": "2024-02-14T12:03:21.976Z"
   },
   {
    "duration": 20,
    "start_time": "2024-02-14T12:03:22.583Z"
   },
   {
    "duration": 17,
    "start_time": "2024-02-14T12:03:22.953Z"
   },
   {
    "duration": 3,
    "start_time": "2024-02-14T12:03:23.752Z"
   },
   {
    "duration": 15,
    "start_time": "2024-02-14T12:03:23.921Z"
   },
   {
    "duration": 5,
    "start_time": "2024-02-14T12:03:24.863Z"
   },
   {
    "duration": 4,
    "start_time": "2024-02-14T12:03:26.025Z"
   },
   {
    "duration": 8,
    "start_time": "2024-02-14T12:03:26.232Z"
   },
   {
    "duration": 10,
    "start_time": "2024-02-14T12:03:28.249Z"
   },
   {
    "duration": 10,
    "start_time": "2024-02-14T16:07:35.360Z"
   },
   {
    "duration": 8,
    "start_time": "2024-02-14T16:08:17.448Z"
   },
   {
    "duration": 482,
    "start_time": "2024-02-14T16:08:24.526Z"
   },
   {
    "duration": 20,
    "start_time": "2024-02-14T16:08:25.010Z"
   },
   {
    "duration": 14,
    "start_time": "2024-02-14T16:08:25.032Z"
   },
   {
    "duration": 15,
    "start_time": "2024-02-14T16:08:25.047Z"
   },
   {
    "duration": 38,
    "start_time": "2024-02-14T16:08:25.064Z"
   },
   {
    "duration": 3,
    "start_time": "2024-02-14T16:08:25.104Z"
   },
   {
    "duration": 9,
    "start_time": "2024-02-14T16:08:25.108Z"
   },
   {
    "duration": 4,
    "start_time": "2024-02-14T16:08:25.118Z"
   },
   {
    "duration": 8,
    "start_time": "2024-02-14T16:08:25.123Z"
   },
   {
    "duration": 29,
    "start_time": "2024-02-14T16:08:25.132Z"
   },
   {
    "duration": 36,
    "start_time": "2024-02-14T16:08:25.163Z"
   },
   {
    "duration": 9,
    "start_time": "2024-02-14T16:08:25.201Z"
   },
   {
    "duration": 4,
    "start_time": "2024-02-14T16:08:25.212Z"
   },
   {
    "duration": 11,
    "start_time": "2024-02-14T16:08:25.218Z"
   },
   {
    "duration": 44,
    "start_time": "2024-02-14T16:08:25.231Z"
   },
   {
    "duration": 15,
    "start_time": "2024-02-14T16:08:25.276Z"
   },
   {
    "duration": 3,
    "start_time": "2024-02-14T16:08:25.293Z"
   },
   {
    "duration": 12,
    "start_time": "2024-02-14T16:08:25.297Z"
   },
   {
    "duration": 7,
    "start_time": "2024-02-14T16:08:25.310Z"
   },
   {
    "duration": 3,
    "start_time": "2024-02-14T16:08:25.319Z"
   },
   {
    "duration": 36,
    "start_time": "2024-02-14T16:08:25.323Z"
   },
   {
    "duration": 26,
    "start_time": "2024-02-14T16:08:25.360Z"
   },
   {
    "duration": 57,
    "start_time": "2024-02-14T16:08:25.388Z"
   },
   {
    "duration": 0,
    "start_time": "2024-02-14T16:08:25.446Z"
   },
   {
    "duration": 0,
    "start_time": "2024-02-14T16:08:25.447Z"
   },
   {
    "duration": 0,
    "start_time": "2024-02-14T16:08:25.448Z"
   },
   {
    "duration": 11,
    "start_time": "2024-02-14T16:09:20.049Z"
   },
   {
    "duration": 478,
    "start_time": "2024-02-14T16:09:23.930Z"
   },
   {
    "duration": 20,
    "start_time": "2024-02-14T16:09:24.410Z"
   },
   {
    "duration": 16,
    "start_time": "2024-02-14T16:09:24.431Z"
   },
   {
    "duration": 9,
    "start_time": "2024-02-14T16:09:24.458Z"
   },
   {
    "duration": 35,
    "start_time": "2024-02-14T16:09:24.469Z"
   },
   {
    "duration": 3,
    "start_time": "2024-02-14T16:09:24.505Z"
   },
   {
    "duration": 15,
    "start_time": "2024-02-14T16:09:24.509Z"
   },
   {
    "duration": 5,
    "start_time": "2024-02-14T16:09:24.525Z"
   },
   {
    "duration": 11,
    "start_time": "2024-02-14T16:09:24.531Z"
   },
   {
    "duration": 16,
    "start_time": "2024-02-14T16:09:24.543Z"
   },
   {
    "duration": 32,
    "start_time": "2024-02-14T16:09:24.561Z"
   },
   {
    "duration": 9,
    "start_time": "2024-02-14T16:09:24.594Z"
   },
   {
    "duration": 3,
    "start_time": "2024-02-14T16:09:24.605Z"
   },
   {
    "duration": 10,
    "start_time": "2024-02-14T16:09:24.611Z"
   },
   {
    "duration": 39,
    "start_time": "2024-02-14T16:09:24.622Z"
   },
   {
    "duration": 15,
    "start_time": "2024-02-14T16:09:24.662Z"
   },
   {
    "duration": 3,
    "start_time": "2024-02-14T16:09:24.679Z"
   },
   {
    "duration": 13,
    "start_time": "2024-02-14T16:09:24.683Z"
   },
   {
    "duration": 11,
    "start_time": "2024-02-14T16:09:24.697Z"
   },
   {
    "duration": 3,
    "start_time": "2024-02-14T16:09:24.709Z"
   },
   {
    "duration": 9,
    "start_time": "2024-02-14T16:09:24.713Z"
   },
   {
    "duration": 81,
    "start_time": "2024-02-14T16:09:24.724Z"
   },
   {
    "duration": 0,
    "start_time": "2024-02-14T16:09:24.806Z"
   },
   {
    "duration": 0,
    "start_time": "2024-02-14T16:09:24.807Z"
   },
   {
    "duration": 0,
    "start_time": "2024-02-14T16:09:24.808Z"
   },
   {
    "duration": 0,
    "start_time": "2024-02-14T16:09:24.809Z"
   },
   {
    "duration": 1106,
    "start_time": "2024-02-14T16:12:22.399Z"
   },
   {
    "duration": 475,
    "start_time": "2024-02-14T16:12:48.547Z"
   },
   {
    "duration": 20,
    "start_time": "2024-02-14T16:12:49.024Z"
   },
   {
    "duration": 13,
    "start_time": "2024-02-14T16:12:49.046Z"
   },
   {
    "duration": 9,
    "start_time": "2024-02-14T16:12:49.060Z"
   },
   {
    "duration": 32,
    "start_time": "2024-02-14T16:12:49.071Z"
   },
   {
    "duration": 3,
    "start_time": "2024-02-14T16:12:49.104Z"
   },
   {
    "duration": 8,
    "start_time": "2024-02-14T16:12:49.108Z"
   },
   {
    "duration": 7,
    "start_time": "2024-02-14T16:12:49.117Z"
   },
   {
    "duration": 8,
    "start_time": "2024-02-14T16:12:49.125Z"
   },
   {
    "duration": 4,
    "start_time": "2024-02-14T16:12:49.134Z"
   },
   {
    "duration": 32,
    "start_time": "2024-02-14T16:12:49.158Z"
   },
   {
    "duration": 9,
    "start_time": "2024-02-14T16:12:49.192Z"
   },
   {
    "duration": 3,
    "start_time": "2024-02-14T16:12:49.202Z"
   },
   {
    "duration": 11,
    "start_time": "2024-02-14T16:12:49.207Z"
   },
   {
    "duration": 47,
    "start_time": "2024-02-14T16:12:49.219Z"
   },
   {
    "duration": 15,
    "start_time": "2024-02-14T16:12:49.267Z"
   },
   {
    "duration": 3,
    "start_time": "2024-02-14T16:12:49.283Z"
   },
   {
    "duration": 12,
    "start_time": "2024-02-14T16:12:49.287Z"
   },
   {
    "duration": 5,
    "start_time": "2024-02-14T16:12:49.300Z"
   },
   {
    "duration": 3,
    "start_time": "2024-02-14T16:12:49.306Z"
   },
   {
    "duration": 10,
    "start_time": "2024-02-14T16:12:49.310Z"
   },
   {
    "duration": 1220,
    "start_time": "2024-02-14T16:12:49.321Z"
   },
   {
    "duration": 0,
    "start_time": "2024-02-14T16:12:50.543Z"
   },
   {
    "duration": 0,
    "start_time": "2024-02-14T16:12:50.545Z"
   },
   {
    "duration": 0,
    "start_time": "2024-02-14T16:12:50.546Z"
   },
   {
    "duration": 0,
    "start_time": "2024-02-14T16:12:50.548Z"
   },
   {
    "duration": 1160,
    "start_time": "2024-02-14T16:19:59.532Z"
   },
   {
    "duration": 415,
    "start_time": "2024-02-14T16:20:12.216Z"
   },
   {
    "duration": 20,
    "start_time": "2024-02-14T16:20:12.633Z"
   },
   {
    "duration": 15,
    "start_time": "2024-02-14T16:20:12.655Z"
   },
   {
    "duration": 9,
    "start_time": "2024-02-14T16:20:12.672Z"
   },
   {
    "duration": 40,
    "start_time": "2024-02-14T16:20:12.683Z"
   },
   {
    "duration": 3,
    "start_time": "2024-02-14T16:20:12.725Z"
   },
   {
    "duration": 15,
    "start_time": "2024-02-14T16:20:12.729Z"
   },
   {
    "duration": 24,
    "start_time": "2024-02-14T16:20:12.745Z"
   },
   {
    "duration": 7,
    "start_time": "2024-02-14T16:20:12.770Z"
   },
   {
    "duration": 4,
    "start_time": "2024-02-14T16:20:12.779Z"
   },
   {
    "duration": 38,
    "start_time": "2024-02-14T16:20:12.785Z"
   },
   {
    "duration": 11,
    "start_time": "2024-02-14T16:20:12.824Z"
   },
   {
    "duration": 3,
    "start_time": "2024-02-14T16:20:12.837Z"
   },
   {
    "duration": 12,
    "start_time": "2024-02-14T16:20:12.858Z"
   },
   {
    "duration": 26,
    "start_time": "2024-02-14T16:20:12.871Z"
   },
   {
    "duration": 16,
    "start_time": "2024-02-14T16:20:12.899Z"
   },
   {
    "duration": 4,
    "start_time": "2024-02-14T16:20:12.916Z"
   },
   {
    "duration": 13,
    "start_time": "2024-02-14T16:20:12.921Z"
   },
   {
    "duration": 24,
    "start_time": "2024-02-14T16:20:12.935Z"
   },
   {
    "duration": 3,
    "start_time": "2024-02-14T16:20:12.961Z"
   },
   {
    "duration": 9,
    "start_time": "2024-02-14T16:20:12.966Z"
   },
   {
    "duration": 62,
    "start_time": "2024-02-14T16:20:12.976Z"
   },
   {
    "duration": 0,
    "start_time": "2024-02-14T16:20:13.040Z"
   },
   {
    "duration": 0,
    "start_time": "2024-02-14T16:20:13.059Z"
   },
   {
    "duration": 0,
    "start_time": "2024-02-14T16:20:13.061Z"
   },
   {
    "duration": 0,
    "start_time": "2024-02-14T16:20:13.062Z"
   },
   {
    "duration": 10,
    "start_time": "2024-02-14T16:20:52.396Z"
   },
   {
    "duration": 496,
    "start_time": "2024-02-14T16:20:55.469Z"
   },
   {
    "duration": 21,
    "start_time": "2024-02-14T16:20:55.967Z"
   },
   {
    "duration": 14,
    "start_time": "2024-02-14T16:20:55.991Z"
   },
   {
    "duration": 24,
    "start_time": "2024-02-14T16:20:56.007Z"
   },
   {
    "duration": 44,
    "start_time": "2024-02-14T16:20:56.032Z"
   },
   {
    "duration": 4,
    "start_time": "2024-02-14T16:20:56.077Z"
   },
   {
    "duration": 16,
    "start_time": "2024-02-14T16:20:56.082Z"
   },
   {
    "duration": 5,
    "start_time": "2024-02-14T16:20:56.100Z"
   },
   {
    "duration": 8,
    "start_time": "2024-02-14T16:20:56.107Z"
   },
   {
    "duration": 5,
    "start_time": "2024-02-14T16:20:56.116Z"
   },
   {
    "duration": 59,
    "start_time": "2024-02-14T16:20:56.122Z"
   },
   {
    "duration": 11,
    "start_time": "2024-02-14T16:20:56.182Z"
   },
   {
    "duration": 4,
    "start_time": "2024-02-14T16:20:56.195Z"
   },
   {
    "duration": 11,
    "start_time": "2024-02-14T16:20:56.200Z"
   },
   {
    "duration": 21,
    "start_time": "2024-02-14T16:20:56.212Z"
   },
   {
    "duration": 36,
    "start_time": "2024-02-14T16:20:56.234Z"
   },
   {
    "duration": 3,
    "start_time": "2024-02-14T16:20:56.272Z"
   },
   {
    "duration": 36,
    "start_time": "2024-02-14T16:20:56.276Z"
   },
   {
    "duration": 20,
    "start_time": "2024-02-14T16:20:56.314Z"
   },
   {
    "duration": 17,
    "start_time": "2024-02-14T16:20:56.335Z"
   },
   {
    "duration": 23,
    "start_time": "2024-02-14T16:20:56.353Z"
   },
   {
    "duration": 82,
    "start_time": "2024-02-14T16:20:56.378Z"
   },
   {
    "duration": 0,
    "start_time": "2024-02-14T16:20:56.462Z"
   },
   {
    "duration": 0,
    "start_time": "2024-02-14T16:20:56.463Z"
   },
   {
    "duration": 0,
    "start_time": "2024-02-14T16:20:56.464Z"
   },
   {
    "duration": 0,
    "start_time": "2024-02-14T16:20:56.465Z"
   },
   {
    "duration": 33,
    "start_time": "2024-02-14T16:21:10.989Z"
   },
   {
    "duration": 488,
    "start_time": "2024-02-14T16:21:14.977Z"
   },
   {
    "duration": 28,
    "start_time": "2024-02-14T16:21:15.469Z"
   },
   {
    "duration": 51,
    "start_time": "2024-02-14T16:21:15.499Z"
   },
   {
    "duration": 10,
    "start_time": "2024-02-14T16:21:15.551Z"
   },
   {
    "duration": 35,
    "start_time": "2024-02-14T16:21:15.562Z"
   },
   {
    "duration": 3,
    "start_time": "2024-02-14T16:21:15.599Z"
   },
   {
    "duration": 10,
    "start_time": "2024-02-14T16:21:15.604Z"
   },
   {
    "duration": 3,
    "start_time": "2024-02-14T16:21:15.616Z"
   },
   {
    "duration": 7,
    "start_time": "2024-02-14T16:21:15.621Z"
   },
   {
    "duration": 4,
    "start_time": "2024-02-14T16:21:15.630Z"
   },
   {
    "duration": 34,
    "start_time": "2024-02-14T16:21:15.659Z"
   },
   {
    "duration": 9,
    "start_time": "2024-02-14T16:21:15.694Z"
   },
   {
    "duration": 4,
    "start_time": "2024-02-14T16:21:15.705Z"
   },
   {
    "duration": 28,
    "start_time": "2024-02-14T16:21:15.710Z"
   },
   {
    "duration": 36,
    "start_time": "2024-02-14T16:21:15.741Z"
   },
   {
    "duration": 16,
    "start_time": "2024-02-14T16:21:15.779Z"
   },
   {
    "duration": 4,
    "start_time": "2024-02-14T16:21:15.796Z"
   },
   {
    "duration": 18,
    "start_time": "2024-02-14T16:21:15.801Z"
   },
   {
    "duration": 6,
    "start_time": "2024-02-14T16:21:15.820Z"
   },
   {
    "duration": 11,
    "start_time": "2024-02-14T16:21:15.827Z"
   },
   {
    "duration": 23,
    "start_time": "2024-02-14T16:21:15.839Z"
   },
   {
    "duration": 85,
    "start_time": "2024-02-14T16:21:15.863Z"
   },
   {
    "duration": 0,
    "start_time": "2024-02-14T16:21:15.949Z"
   },
   {
    "duration": 0,
    "start_time": "2024-02-14T16:21:15.951Z"
   },
   {
    "duration": 0,
    "start_time": "2024-02-14T16:21:15.958Z"
   },
   {
    "duration": 0,
    "start_time": "2024-02-14T16:21:15.959Z"
   },
   {
    "duration": 22,
    "start_time": "2024-02-14T16:30:49.231Z"
   },
   {
    "duration": 21,
    "start_time": "2024-02-14T16:32:33.209Z"
   },
   {
    "duration": 89,
    "start_time": "2024-02-14T16:41:33.416Z"
   },
   {
    "duration": 27,
    "start_time": "2024-02-14T16:41:42.953Z"
   },
   {
    "duration": 18,
    "start_time": "2024-02-14T16:42:30.443Z"
   },
   {
    "duration": 26,
    "start_time": "2024-02-14T16:55:56.232Z"
   },
   {
    "duration": 428,
    "start_time": "2024-02-14T16:56:02.903Z"
   },
   {
    "duration": 20,
    "start_time": "2024-02-14T16:56:03.333Z"
   },
   {
    "duration": 13,
    "start_time": "2024-02-14T16:56:03.355Z"
   },
   {
    "duration": 9,
    "start_time": "2024-02-14T16:56:03.370Z"
   },
   {
    "duration": 32,
    "start_time": "2024-02-14T16:56:03.380Z"
   },
   {
    "duration": 3,
    "start_time": "2024-02-14T16:56:03.414Z"
   },
   {
    "duration": 12,
    "start_time": "2024-02-14T16:56:03.418Z"
   },
   {
    "duration": 4,
    "start_time": "2024-02-14T16:56:03.432Z"
   },
   {
    "duration": 36,
    "start_time": "2024-02-14T16:56:03.438Z"
   },
   {
    "duration": 14,
    "start_time": "2024-02-14T16:56:03.475Z"
   },
   {
    "duration": 34,
    "start_time": "2024-02-14T16:56:03.491Z"
   },
   {
    "duration": 10,
    "start_time": "2024-02-14T16:56:03.527Z"
   },
   {
    "duration": 4,
    "start_time": "2024-02-14T16:56:03.538Z"
   },
   {
    "duration": 20,
    "start_time": "2024-02-14T16:56:03.544Z"
   },
   {
    "duration": 18,
    "start_time": "2024-02-14T16:56:03.566Z"
   },
   {
    "duration": 16,
    "start_time": "2024-02-14T16:56:03.586Z"
   },
   {
    "duration": 4,
    "start_time": "2024-02-14T16:56:03.604Z"
   },
   {
    "duration": 10,
    "start_time": "2024-02-14T16:56:03.610Z"
   },
   {
    "duration": 5,
    "start_time": "2024-02-14T16:56:03.622Z"
   },
   {
    "duration": 33,
    "start_time": "2024-02-14T16:56:03.629Z"
   },
   {
    "duration": 9,
    "start_time": "2024-02-14T16:56:03.663Z"
   },
   {
    "duration": 94,
    "start_time": "2024-02-14T16:56:03.674Z"
   },
   {
    "duration": 0,
    "start_time": "2024-02-14T16:56:03.770Z"
   },
   {
    "duration": 0,
    "start_time": "2024-02-14T16:56:03.771Z"
   },
   {
    "duration": 0,
    "start_time": "2024-02-14T16:56:03.772Z"
   },
   {
    "duration": 0,
    "start_time": "2024-02-14T16:56:03.773Z"
   },
   {
    "duration": 26,
    "start_time": "2024-02-14T16:57:24.356Z"
   },
   {
    "duration": 6,
    "start_time": "2024-02-14T16:57:28.099Z"
   },
   {
    "duration": 451,
    "start_time": "2024-02-14T16:57:49.424Z"
   },
   {
    "duration": 20,
    "start_time": "2024-02-14T16:57:49.876Z"
   },
   {
    "duration": 15,
    "start_time": "2024-02-14T16:57:49.898Z"
   },
   {
    "duration": 13,
    "start_time": "2024-02-14T16:57:49.914Z"
   },
   {
    "duration": 40,
    "start_time": "2024-02-14T16:57:49.929Z"
   },
   {
    "duration": 3,
    "start_time": "2024-02-14T16:57:49.971Z"
   },
   {
    "duration": 21,
    "start_time": "2024-02-14T16:57:49.975Z"
   },
   {
    "duration": 21,
    "start_time": "2024-02-14T16:57:49.998Z"
   },
   {
    "duration": 26,
    "start_time": "2024-02-14T16:57:50.020Z"
   },
   {
    "duration": 29,
    "start_time": "2024-02-14T16:57:50.047Z"
   },
   {
    "duration": 41,
    "start_time": "2024-02-14T16:57:50.077Z"
   },
   {
    "duration": 9,
    "start_time": "2024-02-14T16:57:50.120Z"
   },
   {
    "duration": 11,
    "start_time": "2024-02-14T16:57:50.131Z"
   },
   {
    "duration": 18,
    "start_time": "2024-02-14T16:57:50.145Z"
   },
   {
    "duration": 38,
    "start_time": "2024-02-14T16:57:50.164Z"
   },
   {
    "duration": 21,
    "start_time": "2024-02-14T16:57:50.204Z"
   },
   {
    "duration": 4,
    "start_time": "2024-02-14T16:57:50.226Z"
   },
   {
    "duration": 25,
    "start_time": "2024-02-14T16:57:50.231Z"
   },
   {
    "duration": 15,
    "start_time": "2024-02-14T16:57:50.257Z"
   },
   {
    "duration": 25,
    "start_time": "2024-02-14T16:57:50.273Z"
   },
   {
    "duration": 14,
    "start_time": "2024-02-14T16:57:50.299Z"
   },
   {
    "duration": 92,
    "start_time": "2024-02-14T16:57:50.315Z"
   },
   {
    "duration": 0,
    "start_time": "2024-02-14T16:57:50.408Z"
   },
   {
    "duration": 0,
    "start_time": "2024-02-14T16:57:50.410Z"
   },
   {
    "duration": 0,
    "start_time": "2024-02-14T16:57:50.412Z"
   },
   {
    "duration": 0,
    "start_time": "2024-02-14T16:57:50.413Z"
   },
   {
    "duration": 26,
    "start_time": "2024-02-14T16:58:50.205Z"
   },
   {
    "duration": 29,
    "start_time": "2024-02-14T17:00:48.883Z"
   },
   {
    "duration": 505,
    "start_time": "2024-02-14T17:01:08.933Z"
   },
   {
    "duration": 27,
    "start_time": "2024-02-14T17:01:09.440Z"
   },
   {
    "duration": 25,
    "start_time": "2024-02-14T17:01:09.469Z"
   },
   {
    "duration": 13,
    "start_time": "2024-02-14T17:01:09.497Z"
   },
   {
    "duration": 54,
    "start_time": "2024-02-14T17:01:09.512Z"
   },
   {
    "duration": 3,
    "start_time": "2024-02-14T17:01:09.569Z"
   },
   {
    "duration": 9,
    "start_time": "2024-02-14T17:01:09.574Z"
   },
   {
    "duration": 4,
    "start_time": "2024-02-14T17:01:09.584Z"
   },
   {
    "duration": 7,
    "start_time": "2024-02-14T17:01:09.589Z"
   },
   {
    "duration": 5,
    "start_time": "2024-02-14T17:01:09.601Z"
   },
   {
    "duration": 73,
    "start_time": "2024-02-14T17:01:09.607Z"
   },
   {
    "duration": 10,
    "start_time": "2024-02-14T17:01:09.682Z"
   },
   {
    "duration": 4,
    "start_time": "2024-02-14T17:01:09.694Z"
   },
   {
    "duration": 11,
    "start_time": "2024-02-14T17:01:09.699Z"
   },
   {
    "duration": 18,
    "start_time": "2024-02-14T17:01:09.712Z"
   },
   {
    "duration": 43,
    "start_time": "2024-02-14T17:01:09.732Z"
   },
   {
    "duration": 4,
    "start_time": "2024-02-14T17:01:09.776Z"
   },
   {
    "duration": 10,
    "start_time": "2024-02-14T17:01:09.781Z"
   },
   {
    "duration": 5,
    "start_time": "2024-02-14T17:01:09.793Z"
   },
   {
    "duration": 3,
    "start_time": "2024-02-14T17:01:09.800Z"
   },
   {
    "duration": 22,
    "start_time": "2024-02-14T17:01:09.804Z"
   },
   {
    "duration": 97,
    "start_time": "2024-02-14T17:01:09.828Z"
   },
   {
    "duration": 1,
    "start_time": "2024-02-14T17:01:09.926Z"
   },
   {
    "duration": 0,
    "start_time": "2024-02-14T17:01:09.927Z"
   },
   {
    "duration": 0,
    "start_time": "2024-02-14T17:01:09.929Z"
   },
   {
    "duration": 0,
    "start_time": "2024-02-14T17:01:09.930Z"
   },
   {
    "duration": 12,
    "start_time": "2024-02-14T17:01:35.022Z"
   },
   {
    "duration": 26,
    "start_time": "2024-02-14T17:02:16.455Z"
   },
   {
    "duration": 25,
    "start_time": "2024-02-14T17:02:40.249Z"
   },
   {
    "duration": 25,
    "start_time": "2024-02-14T17:03:26.538Z"
   },
   {
    "duration": 437,
    "start_time": "2024-02-14T17:03:37.698Z"
   },
   {
    "duration": 32,
    "start_time": "2024-02-14T17:03:38.138Z"
   },
   {
    "duration": 16,
    "start_time": "2024-02-14T17:03:38.172Z"
   },
   {
    "duration": 21,
    "start_time": "2024-02-14T17:03:38.191Z"
   },
   {
    "duration": 48,
    "start_time": "2024-02-14T17:03:38.214Z"
   },
   {
    "duration": 3,
    "start_time": "2024-02-14T17:03:38.263Z"
   },
   {
    "duration": 11,
    "start_time": "2024-02-14T17:03:38.268Z"
   },
   {
    "duration": 4,
    "start_time": "2024-02-14T17:03:38.280Z"
   },
   {
    "duration": 8,
    "start_time": "2024-02-14T17:03:38.285Z"
   },
   {
    "duration": 14,
    "start_time": "2024-02-14T17:03:38.295Z"
   },
   {
    "duration": 61,
    "start_time": "2024-02-14T17:03:38.310Z"
   },
   {
    "duration": 10,
    "start_time": "2024-02-14T17:03:38.372Z"
   },
   {
    "duration": 3,
    "start_time": "2024-02-14T17:03:38.383Z"
   },
   {
    "duration": 19,
    "start_time": "2024-02-14T17:03:38.388Z"
   },
   {
    "duration": 19,
    "start_time": "2024-02-14T17:03:38.408Z"
   },
   {
    "duration": 33,
    "start_time": "2024-02-14T17:03:38.428Z"
   },
   {
    "duration": 4,
    "start_time": "2024-02-14T17:03:38.462Z"
   },
   {
    "duration": 14,
    "start_time": "2024-02-14T17:03:38.467Z"
   },
   {
    "duration": 5,
    "start_time": "2024-02-14T17:03:38.482Z"
   },
   {
    "duration": 4,
    "start_time": "2024-02-14T17:03:38.488Z"
   },
   {
    "duration": 9,
    "start_time": "2024-02-14T17:03:38.493Z"
   },
   {
    "duration": 100,
    "start_time": "2024-02-14T17:03:38.503Z"
   },
   {
    "duration": 0,
    "start_time": "2024-02-14T17:03:38.605Z"
   },
   {
    "duration": 0,
    "start_time": "2024-02-14T17:03:38.606Z"
   },
   {
    "duration": 0,
    "start_time": "2024-02-14T17:03:38.607Z"
   },
   {
    "duration": 0,
    "start_time": "2024-02-14T17:03:38.608Z"
   },
   {
    "duration": 93,
    "start_time": "2024-02-14T17:06:21.346Z"
   },
   {
    "duration": 77,
    "start_time": "2024-02-14T17:06:29.067Z"
   },
   {
    "duration": 23,
    "start_time": "2024-02-14T17:06:51.837Z"
   },
   {
    "duration": 33,
    "start_time": "2024-02-14T17:07:03.053Z"
   },
   {
    "duration": 24,
    "start_time": "2024-02-14T17:07:15.780Z"
   },
   {
    "duration": 24,
    "start_time": "2024-02-14T17:08:46.539Z"
   },
   {
    "duration": 1152,
    "start_time": "2024-02-14T17:09:42.851Z"
   },
   {
    "duration": 470,
    "start_time": "2024-02-14T17:09:55.172Z"
   },
   {
    "duration": 20,
    "start_time": "2024-02-14T17:09:55.644Z"
   },
   {
    "duration": 15,
    "start_time": "2024-02-14T17:09:55.668Z"
   },
   {
    "duration": 9,
    "start_time": "2024-02-14T17:09:55.685Z"
   },
   {
    "duration": 47,
    "start_time": "2024-02-14T17:09:55.695Z"
   },
   {
    "duration": 3,
    "start_time": "2024-02-14T17:09:55.744Z"
   },
   {
    "duration": 12,
    "start_time": "2024-02-14T17:09:55.749Z"
   },
   {
    "duration": 20,
    "start_time": "2024-02-14T17:09:55.763Z"
   },
   {
    "duration": 11,
    "start_time": "2024-02-14T17:09:55.785Z"
   },
   {
    "duration": 9,
    "start_time": "2024-02-14T17:09:55.797Z"
   },
   {
    "duration": 49,
    "start_time": "2024-02-14T17:09:55.807Z"
   },
   {
    "duration": 9,
    "start_time": "2024-02-14T17:09:55.857Z"
   },
   {
    "duration": 20,
    "start_time": "2024-02-14T17:09:55.869Z"
   },
   {
    "duration": 14,
    "start_time": "2024-02-14T17:09:55.890Z"
   },
   {
    "duration": 35,
    "start_time": "2024-02-14T17:09:55.905Z"
   },
   {
    "duration": 15,
    "start_time": "2024-02-14T17:09:55.942Z"
   },
   {
    "duration": 4,
    "start_time": "2024-02-14T17:09:55.958Z"
   },
   {
    "duration": 18,
    "start_time": "2024-02-14T17:09:55.964Z"
   },
   {
    "duration": 5,
    "start_time": "2024-02-14T17:09:55.984Z"
   },
   {
    "duration": 10,
    "start_time": "2024-02-14T17:09:55.991Z"
   },
   {
    "duration": 17,
    "start_time": "2024-02-14T17:09:56.003Z"
   },
   {
    "duration": 1124,
    "start_time": "2024-02-14T17:09:56.021Z"
   },
   {
    "duration": 0,
    "start_time": "2024-02-14T17:09:57.146Z"
   },
   {
    "duration": 0,
    "start_time": "2024-02-14T17:09:57.147Z"
   },
   {
    "duration": 0,
    "start_time": "2024-02-14T17:09:57.148Z"
   },
   {
    "duration": 0,
    "start_time": "2024-02-14T17:09:57.149Z"
   },
   {
    "duration": 33,
    "start_time": "2024-02-14T17:10:25.342Z"
   },
   {
    "duration": 29,
    "start_time": "2024-02-14T17:10:46.622Z"
   },
   {
    "duration": 40,
    "start_time": "2024-02-14T17:10:59.430Z"
   },
   {
    "duration": 423,
    "start_time": "2024-02-14T17:11:11.399Z"
   },
   {
    "duration": 22,
    "start_time": "2024-02-14T17:11:11.824Z"
   },
   {
    "duration": 16,
    "start_time": "2024-02-14T17:11:11.847Z"
   },
   {
    "duration": 11,
    "start_time": "2024-02-14T17:11:11.864Z"
   },
   {
    "duration": 32,
    "start_time": "2024-02-14T17:11:11.877Z"
   },
   {
    "duration": 3,
    "start_time": "2024-02-14T17:11:11.911Z"
   },
   {
    "duration": 10,
    "start_time": "2024-02-14T17:11:11.916Z"
   },
   {
    "duration": 4,
    "start_time": "2024-02-14T17:11:11.927Z"
   },
   {
    "duration": 31,
    "start_time": "2024-02-14T17:11:11.933Z"
   },
   {
    "duration": 10,
    "start_time": "2024-02-14T17:11:11.965Z"
   },
   {
    "duration": 36,
    "start_time": "2024-02-14T17:11:11.977Z"
   },
   {
    "duration": 10,
    "start_time": "2024-02-14T17:11:12.014Z"
   },
   {
    "duration": 4,
    "start_time": "2024-02-14T17:11:12.025Z"
   },
   {
    "duration": 13,
    "start_time": "2024-02-14T17:11:12.058Z"
   },
   {
    "duration": 27,
    "start_time": "2024-02-14T17:11:12.072Z"
   },
   {
    "duration": 16,
    "start_time": "2024-02-14T17:11:12.101Z"
   },
   {
    "duration": 4,
    "start_time": "2024-02-14T17:11:12.118Z"
   },
   {
    "duration": 18,
    "start_time": "2024-02-14T17:11:12.124Z"
   },
   {
    "duration": 17,
    "start_time": "2024-02-14T17:11:12.143Z"
   },
   {
    "duration": 7,
    "start_time": "2024-02-14T17:11:12.162Z"
   },
   {
    "duration": 22,
    "start_time": "2024-02-14T17:11:12.171Z"
   },
   {
    "duration": 98,
    "start_time": "2024-02-14T17:11:12.194Z"
   },
   {
    "duration": 0,
    "start_time": "2024-02-14T17:11:12.294Z"
   },
   {
    "duration": 0,
    "start_time": "2024-02-14T17:11:12.295Z"
   },
   {
    "duration": 0,
    "start_time": "2024-02-14T17:11:12.297Z"
   },
   {
    "duration": 0,
    "start_time": "2024-02-14T17:11:12.298Z"
   },
   {
    "duration": 28,
    "start_time": "2024-02-14T17:11:21.471Z"
   },
   {
    "duration": 29,
    "start_time": "2024-02-14T17:13:24.532Z"
   },
   {
    "duration": 26,
    "start_time": "2024-02-14T17:32:12.163Z"
   },
   {
    "duration": 10,
    "start_time": "2024-02-14T17:32:23.891Z"
   },
   {
    "duration": 34,
    "start_time": "2024-02-14T18:12:22.157Z"
   },
   {
    "duration": 8,
    "start_time": "2024-02-14T18:16:36.331Z"
   },
   {
    "duration": 447,
    "start_time": "2024-02-14T18:16:44.800Z"
   },
   {
    "duration": 21,
    "start_time": "2024-02-14T18:16:45.249Z"
   },
   {
    "duration": 14,
    "start_time": "2024-02-14T18:16:45.272Z"
   },
   {
    "duration": 9,
    "start_time": "2024-02-14T18:16:45.288Z"
   },
   {
    "duration": 33,
    "start_time": "2024-02-14T18:16:45.299Z"
   },
   {
    "duration": 3,
    "start_time": "2024-02-14T18:16:45.334Z"
   },
   {
    "duration": 24,
    "start_time": "2024-02-14T18:16:45.338Z"
   },
   {
    "duration": 4,
    "start_time": "2024-02-14T18:16:45.364Z"
   },
   {
    "duration": 18,
    "start_time": "2024-02-14T18:16:45.369Z"
   },
   {
    "duration": 5,
    "start_time": "2024-02-14T18:16:45.388Z"
   },
   {
    "duration": 36,
    "start_time": "2024-02-14T18:16:45.394Z"
   },
   {
    "duration": 10,
    "start_time": "2024-02-14T18:16:45.432Z"
   },
   {
    "duration": 18,
    "start_time": "2024-02-14T18:16:45.443Z"
   },
   {
    "duration": 15,
    "start_time": "2024-02-14T18:16:45.465Z"
   },
   {
    "duration": 27,
    "start_time": "2024-02-14T18:16:45.481Z"
   },
   {
    "duration": 15,
    "start_time": "2024-02-14T18:16:45.509Z"
   },
   {
    "duration": 3,
    "start_time": "2024-02-14T18:16:45.526Z"
   },
   {
    "duration": 31,
    "start_time": "2024-02-14T18:16:45.530Z"
   },
   {
    "duration": 7,
    "start_time": "2024-02-14T18:16:45.562Z"
   },
   {
    "duration": 15,
    "start_time": "2024-02-14T18:16:45.571Z"
   },
   {
    "duration": 16,
    "start_time": "2024-02-14T18:16:45.588Z"
   },
   {
    "duration": 84,
    "start_time": "2024-02-14T18:16:45.606Z"
   },
   {
    "duration": 0,
    "start_time": "2024-02-14T18:16:45.691Z"
   },
   {
    "duration": 0,
    "start_time": "2024-02-14T18:16:45.692Z"
   },
   {
    "duration": 0,
    "start_time": "2024-02-14T18:16:45.693Z"
   },
   {
    "duration": 0,
    "start_time": "2024-02-14T18:16:45.694Z"
   },
   {
    "duration": 8,
    "start_time": "2024-02-14T18:16:51.530Z"
   },
   {
    "duration": 27,
    "start_time": "2024-02-14T18:16:58.612Z"
   },
   {
    "duration": 22,
    "start_time": "2024-02-14T18:19:54.720Z"
   },
   {
    "duration": 22,
    "start_time": "2024-02-14T18:20:07.776Z"
   },
   {
    "duration": 104,
    "start_time": "2024-02-14T18:23:50.431Z"
   },
   {
    "duration": 84,
    "start_time": "2024-02-14T18:24:14.727Z"
   },
   {
    "duration": 78,
    "start_time": "2024-02-14T18:24:23.535Z"
   },
   {
    "duration": 477,
    "start_time": "2024-02-14T18:24:31.219Z"
   },
   {
    "duration": 21,
    "start_time": "2024-02-14T18:24:31.698Z"
   },
   {
    "duration": 21,
    "start_time": "2024-02-14T18:24:31.720Z"
   },
   {
    "duration": 20,
    "start_time": "2024-02-14T18:24:31.742Z"
   },
   {
    "duration": 42,
    "start_time": "2024-02-14T18:24:31.764Z"
   },
   {
    "duration": 3,
    "start_time": "2024-02-14T18:24:31.807Z"
   },
   {
    "duration": 14,
    "start_time": "2024-02-14T18:24:31.811Z"
   },
   {
    "duration": 4,
    "start_time": "2024-02-14T18:24:31.826Z"
   },
   {
    "duration": 7,
    "start_time": "2024-02-14T18:24:31.831Z"
   },
   {
    "duration": 5,
    "start_time": "2024-02-14T18:24:31.840Z"
   },
   {
    "duration": 43,
    "start_time": "2024-02-14T18:24:31.847Z"
   },
   {
    "duration": 10,
    "start_time": "2024-02-14T18:24:31.891Z"
   },
   {
    "duration": 3,
    "start_time": "2024-02-14T18:24:31.902Z"
   },
   {
    "duration": 13,
    "start_time": "2024-02-14T18:24:31.907Z"
   },
   {
    "duration": 45,
    "start_time": "2024-02-14T18:24:31.921Z"
   },
   {
    "duration": 18,
    "start_time": "2024-02-14T18:24:31.968Z"
   },
   {
    "duration": 14,
    "start_time": "2024-02-14T18:24:31.987Z"
   },
   {
    "duration": 21,
    "start_time": "2024-02-14T18:24:32.003Z"
   },
   {
    "duration": 15,
    "start_time": "2024-02-14T18:24:32.026Z"
   },
   {
    "duration": 10,
    "start_time": "2024-02-14T18:24:32.043Z"
   },
   {
    "duration": 12,
    "start_time": "2024-02-14T18:24:32.054Z"
   },
   {
    "duration": 108,
    "start_time": "2024-02-14T18:24:32.067Z"
   },
   {
    "duration": 0,
    "start_time": "2024-02-14T18:24:32.177Z"
   },
   {
    "duration": 0,
    "start_time": "2024-02-14T18:24:32.178Z"
   },
   {
    "duration": 0,
    "start_time": "2024-02-14T18:24:32.179Z"
   },
   {
    "duration": 0,
    "start_time": "2024-02-14T18:24:32.180Z"
   },
   {
    "duration": 85,
    "start_time": "2024-02-14T18:24:35.896Z"
   },
   {
    "duration": 4,
    "start_time": "2024-02-14T18:24:49.592Z"
   },
   {
    "duration": 8,
    "start_time": "2024-02-14T18:24:51.688Z"
   },
   {
    "duration": 11,
    "start_time": "2024-02-14T18:24:53.713Z"
   },
   {
    "duration": 91,
    "start_time": "2024-02-14T18:24:54.416Z"
   },
   {
    "duration": 87,
    "start_time": "2024-02-14T18:25:12.305Z"
   },
   {
    "duration": 79,
    "start_time": "2024-02-14T18:25:51.722Z"
   },
   {
    "duration": 28,
    "start_time": "2024-02-14T18:26:13.707Z"
   },
   {
    "duration": 23,
    "start_time": "2024-02-14T18:27:46.397Z"
   },
   {
    "duration": 27,
    "start_time": "2024-02-14T18:32:52.599Z"
   },
   {
    "duration": 23,
    "start_time": "2024-02-14T18:37:29.607Z"
   },
   {
    "duration": 117,
    "start_time": "2024-02-14T18:38:03.448Z"
   },
   {
    "duration": 24,
    "start_time": "2024-02-14T18:38:07.616Z"
   },
   {
    "duration": 27,
    "start_time": "2024-02-14T18:38:23.048Z"
   },
   {
    "duration": 83,
    "start_time": "2024-02-14T18:40:05.595Z"
   },
   {
    "duration": 23,
    "start_time": "2024-02-14T18:40:16.931Z"
   },
   {
    "duration": 85,
    "start_time": "2024-02-14T18:40:27.627Z"
   },
   {
    "duration": 22,
    "start_time": "2024-02-14T18:40:39.195Z"
   },
   {
    "duration": 27,
    "start_time": "2024-02-14T18:40:59.116Z"
   },
   {
    "duration": 23,
    "start_time": "2024-02-14T18:44:50.430Z"
   },
   {
    "duration": 25,
    "start_time": "2024-02-14T18:45:45.165Z"
   },
   {
    "duration": 23,
    "start_time": "2024-02-14T18:45:54.037Z"
   },
   {
    "duration": 31,
    "start_time": "2024-02-14T18:46:53.423Z"
   },
   {
    "duration": 23,
    "start_time": "2024-02-14T18:47:20.552Z"
   },
   {
    "duration": 106,
    "start_time": "2024-02-14T18:50:02.196Z"
   },
   {
    "duration": 85,
    "start_time": "2024-02-14T18:50:11.349Z"
   },
   {
    "duration": 81,
    "start_time": "2024-02-14T18:50:16.916Z"
   },
   {
    "duration": 24,
    "start_time": "2024-02-14T18:51:44.471Z"
   },
   {
    "duration": 90,
    "start_time": "2024-02-14T18:52:23.608Z"
   },
   {
    "duration": 21,
    "start_time": "2024-02-14T18:52:44.577Z"
   },
   {
    "duration": 23,
    "start_time": "2024-02-14T18:52:59.114Z"
   },
   {
    "duration": 90,
    "start_time": "2024-02-14T18:56:36.328Z"
   },
   {
    "duration": 23,
    "start_time": "2024-02-14T18:56:52.231Z"
   },
   {
    "duration": 83,
    "start_time": "2024-02-14T18:57:17.864Z"
   },
   {
    "duration": 24,
    "start_time": "2024-02-14T18:57:24.561Z"
   },
   {
    "duration": 27,
    "start_time": "2024-02-14T19:00:35.258Z"
   },
   {
    "duration": 26,
    "start_time": "2024-02-14T19:00:47.799Z"
   },
   {
    "duration": 52,
    "start_time": "2024-02-15T07:00:48.814Z"
   },
   {
    "duration": 604,
    "start_time": "2024-02-15T07:00:54.346Z"
   },
   {
    "duration": 25,
    "start_time": "2024-02-15T07:00:54.952Z"
   },
   {
    "duration": 17,
    "start_time": "2024-02-15T07:00:54.981Z"
   },
   {
    "duration": 11,
    "start_time": "2024-02-15T07:00:55.000Z"
   },
   {
    "duration": 37,
    "start_time": "2024-02-15T07:00:55.012Z"
   },
   {
    "duration": 4,
    "start_time": "2024-02-15T07:00:55.050Z"
   },
   {
    "duration": 32,
    "start_time": "2024-02-15T07:00:55.055Z"
   },
   {
    "duration": 6,
    "start_time": "2024-02-15T07:00:55.088Z"
   },
   {
    "duration": 20,
    "start_time": "2024-02-15T07:00:55.095Z"
   },
   {
    "duration": 10,
    "start_time": "2024-02-15T07:00:55.116Z"
   },
   {
    "duration": 42,
    "start_time": "2024-02-15T07:00:55.127Z"
   },
   {
    "duration": 14,
    "start_time": "2024-02-15T07:00:55.170Z"
   },
   {
    "duration": 5,
    "start_time": "2024-02-15T07:00:55.186Z"
   },
   {
    "duration": 15,
    "start_time": "2024-02-15T07:00:55.192Z"
   },
   {
    "duration": 39,
    "start_time": "2024-02-15T07:00:55.209Z"
   },
   {
    "duration": 17,
    "start_time": "2024-02-15T07:00:55.249Z"
   },
   {
    "duration": 16,
    "start_time": "2024-02-15T07:00:55.268Z"
   },
   {
    "duration": 22,
    "start_time": "2024-02-15T07:00:55.286Z"
   },
   {
    "duration": 31,
    "start_time": "2024-02-15T07:00:55.309Z"
   },
   {
    "duration": 11,
    "start_time": "2024-02-15T07:00:55.341Z"
   },
   {
    "duration": 15,
    "start_time": "2024-02-15T07:00:55.354Z"
   },
   {
    "duration": 74,
    "start_time": "2024-02-15T07:00:55.371Z"
   },
   {
    "duration": 0,
    "start_time": "2024-02-15T07:00:55.446Z"
   },
   {
    "duration": 0,
    "start_time": "2024-02-15T07:00:55.448Z"
   },
   {
    "duration": 0,
    "start_time": "2024-02-15T07:00:55.449Z"
   },
   {
    "duration": 0,
    "start_time": "2024-02-15T07:00:55.449Z"
   },
   {
    "duration": 31,
    "start_time": "2024-02-15T07:01:12.723Z"
   },
   {
    "duration": 514,
    "start_time": "2024-02-15T07:47:22.949Z"
   },
   {
    "duration": 23,
    "start_time": "2024-02-15T07:47:23.465Z"
   },
   {
    "duration": 16,
    "start_time": "2024-02-15T07:47:23.490Z"
   },
   {
    "duration": 10,
    "start_time": "2024-02-15T07:47:23.508Z"
   },
   {
    "duration": 41,
    "start_time": "2024-02-15T07:47:23.519Z"
   },
   {
    "duration": 4,
    "start_time": "2024-02-15T07:47:23.579Z"
   },
   {
    "duration": 13,
    "start_time": "2024-02-15T07:47:23.585Z"
   },
   {
    "duration": 4,
    "start_time": "2024-02-15T07:47:23.599Z"
   },
   {
    "duration": 11,
    "start_time": "2024-02-15T07:47:23.605Z"
   },
   {
    "duration": 6,
    "start_time": "2024-02-15T07:47:23.618Z"
   },
   {
    "duration": 59,
    "start_time": "2024-02-15T07:47:23.626Z"
   },
   {
    "duration": 12,
    "start_time": "2024-02-15T07:47:23.686Z"
   },
   {
    "duration": 3,
    "start_time": "2024-02-15T07:47:23.700Z"
   },
   {
    "duration": 14,
    "start_time": "2024-02-15T07:47:23.705Z"
   },
   {
    "duration": 28,
    "start_time": "2024-02-15T07:47:23.721Z"
   },
   {
    "duration": 38,
    "start_time": "2024-02-15T07:47:23.751Z"
   },
   {
    "duration": 4,
    "start_time": "2024-02-15T07:47:23.791Z"
   },
   {
    "duration": 14,
    "start_time": "2024-02-15T07:47:23.796Z"
   },
   {
    "duration": 8,
    "start_time": "2024-02-15T07:47:23.812Z"
   },
   {
    "duration": 5,
    "start_time": "2024-02-15T07:47:23.822Z"
   },
   {
    "duration": 14,
    "start_time": "2024-02-15T07:47:23.829Z"
   },
   {
    "duration": 58,
    "start_time": "2024-02-15T07:47:23.844Z"
   },
   {
    "duration": 2,
    "start_time": "2024-02-15T07:47:23.908Z"
   },
   {
    "duration": 6,
    "start_time": "2024-02-15T07:47:23.912Z"
   },
   {
    "duration": 4,
    "start_time": "2024-02-15T07:47:23.920Z"
   },
   {
    "duration": 29,
    "start_time": "2024-02-15T08:05:28.560Z"
   },
   {
    "duration": 27,
    "start_time": "2024-02-15T08:06:43.073Z"
   },
   {
    "duration": 29,
    "start_time": "2024-02-15T08:07:15.533Z"
   },
   {
    "duration": 5,
    "start_time": "2024-02-15T08:58:41.787Z"
   },
   {
    "duration": 10,
    "start_time": "2024-02-15T08:58:42.894Z"
   },
   {
    "duration": 32,
    "start_time": "2024-02-15T09:04:24.300Z"
   },
   {
    "duration": 28,
    "start_time": "2024-02-15T09:05:05.013Z"
   },
   {
    "duration": 32,
    "start_time": "2024-02-15T09:05:58.725Z"
   },
   {
    "duration": 30,
    "start_time": "2024-02-15T09:06:01.821Z"
   },
   {
    "duration": 33,
    "start_time": "2024-02-15T09:06:37.821Z"
   },
   {
    "duration": 27,
    "start_time": "2024-02-15T09:07:28.142Z"
   },
   {
    "duration": 27,
    "start_time": "2024-02-15T09:07:59.063Z"
   },
   {
    "duration": 56,
    "start_time": "2024-02-15T12:17:09.994Z"
   },
   {
    "duration": 594,
    "start_time": "2024-02-15T12:17:14.538Z"
   },
   {
    "duration": 22,
    "start_time": "2024-02-15T12:17:15.134Z"
   },
   {
    "duration": 30,
    "start_time": "2024-02-15T12:17:15.157Z"
   },
   {
    "duration": 37,
    "start_time": "2024-02-15T12:17:15.189Z"
   },
   {
    "duration": 50,
    "start_time": "2024-02-15T12:17:15.227Z"
   },
   {
    "duration": 13,
    "start_time": "2024-02-15T12:17:15.278Z"
   },
   {
    "duration": 78,
    "start_time": "2024-02-15T12:17:15.292Z"
   },
   {
    "duration": 14,
    "start_time": "2024-02-15T12:17:15.372Z"
   },
   {
    "duration": 15,
    "start_time": "2024-02-15T12:17:15.387Z"
   },
   {
    "duration": 4,
    "start_time": "2024-02-15T12:17:15.405Z"
   },
   {
    "duration": 74,
    "start_time": "2024-02-15T12:17:15.411Z"
   },
   {
    "duration": 11,
    "start_time": "2024-02-15T12:17:15.487Z"
   },
   {
    "duration": 17,
    "start_time": "2024-02-15T12:17:15.499Z"
   },
   {
    "duration": 16,
    "start_time": "2024-02-15T12:17:15.517Z"
   },
   {
    "duration": 41,
    "start_time": "2024-02-15T12:17:15.534Z"
   },
   {
    "duration": 26,
    "start_time": "2024-02-15T12:17:15.576Z"
   },
   {
    "duration": 3,
    "start_time": "2024-02-15T12:17:15.603Z"
   },
   {
    "duration": 15,
    "start_time": "2024-02-15T12:17:15.608Z"
   },
   {
    "duration": 20,
    "start_time": "2024-02-15T12:17:15.624Z"
   },
   {
    "duration": 6,
    "start_time": "2024-02-15T12:17:15.645Z"
   },
   {
    "duration": 17,
    "start_time": "2024-02-15T12:17:15.653Z"
   },
   {
    "duration": 66,
    "start_time": "2024-02-15T12:17:15.671Z"
   },
   {
    "duration": 30,
    "start_time": "2024-02-15T12:17:15.738Z"
   },
   {
    "duration": 32,
    "start_time": "2024-02-15T12:17:15.770Z"
   },
   {
    "duration": 28,
    "start_time": "2024-02-15T12:17:15.803Z"
   },
   {
    "duration": 445,
    "start_time": "2024-02-15T12:24:25.628Z"
   },
   {
    "duration": 22,
    "start_time": "2024-02-15T12:24:26.075Z"
   },
   {
    "duration": 15,
    "start_time": "2024-02-15T12:24:26.098Z"
   },
   {
    "duration": 10,
    "start_time": "2024-02-15T12:24:26.115Z"
   },
   {
    "duration": 60,
    "start_time": "2024-02-15T12:24:26.126Z"
   },
   {
    "duration": 3,
    "start_time": "2024-02-15T12:24:26.187Z"
   },
   {
    "duration": 19,
    "start_time": "2024-02-15T12:24:26.192Z"
   },
   {
    "duration": 4,
    "start_time": "2024-02-15T12:24:26.212Z"
   },
   {
    "duration": 11,
    "start_time": "2024-02-15T12:24:26.217Z"
   },
   {
    "duration": 4,
    "start_time": "2024-02-15T12:24:26.230Z"
   },
   {
    "duration": 49,
    "start_time": "2024-02-15T12:24:26.235Z"
   },
   {
    "duration": 10,
    "start_time": "2024-02-15T12:24:26.285Z"
   },
   {
    "duration": 3,
    "start_time": "2024-02-15T12:24:26.297Z"
   },
   {
    "duration": 15,
    "start_time": "2024-02-15T12:24:26.302Z"
   },
   {
    "duration": 24,
    "start_time": "2024-02-15T12:24:26.318Z"
   },
   {
    "duration": 38,
    "start_time": "2024-02-15T12:24:26.344Z"
   },
   {
    "duration": 4,
    "start_time": "2024-02-15T12:24:26.383Z"
   },
   {
    "duration": 13,
    "start_time": "2024-02-15T12:24:26.388Z"
   },
   {
    "duration": 5,
    "start_time": "2024-02-15T12:24:26.403Z"
   },
   {
    "duration": 7,
    "start_time": "2024-02-15T12:24:26.409Z"
   },
   {
    "duration": 13,
    "start_time": "2024-02-15T12:24:26.417Z"
   },
   {
    "duration": 49,
    "start_time": "2024-02-15T12:24:26.431Z"
   },
   {
    "duration": 27,
    "start_time": "2024-02-15T12:24:26.482Z"
   },
   {
    "duration": 25,
    "start_time": "2024-02-15T12:24:26.510Z"
   },
   {
    "duration": 46,
    "start_time": "2024-02-15T12:24:26.536Z"
   },
   {
    "duration": 39,
    "start_time": "2024-02-15T12:25:08.147Z"
   },
   {
    "duration": 28,
    "start_time": "2024-02-15T12:26:43.658Z"
   },
   {
    "duration": 28,
    "start_time": "2024-02-15T12:27:10.585Z"
   },
   {
    "duration": 27,
    "start_time": "2024-02-15T12:28:41.077Z"
   },
   {
    "duration": 26,
    "start_time": "2024-02-15T12:29:15.469Z"
   },
   {
    "duration": 759,
    "start_time": "2024-03-29T13:39:45.874Z"
   },
   {
    "duration": 24,
    "start_time": "2024-03-29T13:39:46.635Z"
   },
   {
    "duration": 53,
    "start_time": "2024-03-29T13:39:46.661Z"
   },
   {
    "duration": 22,
    "start_time": "2024-03-29T13:39:46.715Z"
   },
   {
    "duration": 39,
    "start_time": "2024-03-29T13:39:46.739Z"
   },
   {
    "duration": 3,
    "start_time": "2024-03-29T13:39:46.779Z"
   },
   {
    "duration": 22,
    "start_time": "2024-03-29T13:39:46.784Z"
   },
   {
    "duration": 10,
    "start_time": "2024-03-29T13:39:46.807Z"
   },
   {
    "duration": 14,
    "start_time": "2024-03-29T13:39:46.819Z"
   },
   {
    "duration": 10,
    "start_time": "2024-03-29T13:39:46.835Z"
   },
   {
    "duration": 40,
    "start_time": "2024-03-29T13:39:46.846Z"
   },
   {
    "duration": 10,
    "start_time": "2024-03-29T13:39:46.887Z"
   },
   {
    "duration": 5,
    "start_time": "2024-03-29T13:39:46.898Z"
   },
   {
    "duration": 17,
    "start_time": "2024-03-29T13:39:46.907Z"
   },
   {
    "duration": 24,
    "start_time": "2024-03-29T13:39:46.925Z"
   },
   {
    "duration": 18,
    "start_time": "2024-03-29T13:39:46.973Z"
   },
   {
    "duration": 5,
    "start_time": "2024-03-29T13:39:46.993Z"
   },
   {
    "duration": 33,
    "start_time": "2024-03-29T13:39:47.000Z"
   },
   {
    "duration": 25,
    "start_time": "2024-03-29T13:39:47.034Z"
   },
   {
    "duration": 10,
    "start_time": "2024-03-29T13:39:47.061Z"
   },
   {
    "duration": 13,
    "start_time": "2024-03-29T13:39:47.073Z"
   },
   {
    "duration": 33,
    "start_time": "2024-03-29T13:39:47.088Z"
   },
   {
    "duration": 31,
    "start_time": "2024-03-29T13:39:47.123Z"
   },
   {
    "duration": 43,
    "start_time": "2024-03-29T13:39:47.156Z"
   },
   {
    "duration": 46,
    "start_time": "2024-03-29T13:39:47.201Z"
   }
  ],
  "colab": {
   "provenance": []
  },
  "kernelspec": {
   "display_name": "Python 3 (ipykernel)",
   "language": "python",
   "name": "python3"
  },
  "language_info": {
   "codemirror_mode": {
    "name": "ipython",
    "version": 3
   },
   "file_extension": ".py",
   "mimetype": "text/x-python",
   "name": "python",
   "nbconvert_exporter": "python",
   "pygments_lexer": "ipython3",
   "version": "3.9.5"
  },
  "toc": {
   "base_numbering": 1,
   "nav_menu": {},
   "number_sections": true,
   "sideBar": true,
   "skip_h1_title": true,
   "title_cell": "Table of Contents",
   "title_sidebar": "Contents",
   "toc_cell": false,
   "toc_position": {},
   "toc_section_display": true,
   "toc_window_display": false
  }
 },
 "nbformat": 4,
 "nbformat_minor": 5
}
